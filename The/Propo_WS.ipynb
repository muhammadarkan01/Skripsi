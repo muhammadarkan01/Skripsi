{
 "cells": [
  {
   "cell_type": "markdown",
   "id": "8d4b012d-f266-4d11-ae77-c3a7dd822776",
   "metadata": {
    "tags": []
   },
   "source": [
    "# Data Prep"
   ]
  },
  {
   "cell_type": "markdown",
   "id": "534f15d2-7427-4599-bbab-a5d715125aa1",
   "metadata": {
    "jp-MarkdownHeadingCollapsed": true,
    "tags": []
   },
   "source": [
    "## Creating and Preparing Dataset"
   ]
  },
  {
   "cell_type": "code",
   "execution_count": null,
   "id": "df9b03ba-6fcf-46ad-ac95-9c8dba84826a",
   "metadata": {},
   "outputs": [],
   "source": [
    "from sklearn.model_selection import train_test_split\n",
    "import pandas as pd\n",
    "import numpy as np "
   ]
  },
  {
   "cell_type": "code",
   "execution_count": null,
   "id": "386f7083-cb3a-4571-9af9-66ba90215c89",
   "metadata": {},
   "outputs": [],
   "source": [
    "df = pd.read_csv('../Dataset/label-dataset-arkan-clean.csv')\n",
    "df.head()"
   ]
  },
  {
   "cell_type": "markdown",
   "id": "23c4f434-f4a6-46f9-b661-41a8e57c3483",
   "metadata": {},
   "source": [
    "Checking DataFrame coloum type "
   ]
  },
  {
   "cell_type": "code",
   "execution_count": null,
   "id": "206b0348-aba2-4e16-afe6-45794177406c",
   "metadata": {},
   "outputs": [],
   "source": [
    "df.info()"
   ]
  },
  {
   "cell_type": "markdown",
   "id": "476f2d9b-f623-4d7a-95c1-c4501830725d",
   "metadata": {},
   "source": [
    "Spliting to train and test "
   ]
  },
  {
   "cell_type": "code",
   "execution_count": null,
   "id": "10d3a38c-b5f0-4d37-94e0-b871d52caf39",
   "metadata": {},
   "outputs": [],
   "source": [
    "#train_df, test_df = train_test_split(df, test_size=0.3, random_state=25)"
   ]
  },
  {
   "cell_type": "markdown",
   "id": "f519d806-6c56-4ec4-8876-070c7c164ed9",
   "metadata": {},
   "source": [
    "Read train data frame head "
   ]
  },
  {
   "cell_type": "code",
   "execution_count": null,
   "id": "a7571665-3db6-4bb7-a563-cafe10a4f383",
   "metadata": {},
   "outputs": [],
   "source": [
    "train_df.head()\n"
   ]
  },
  {
   "cell_type": "markdown",
   "id": "982e84dc-90f2-4416-9422-70dc744edc99",
   "metadata": {},
   "source": [
    "Read test data frame head "
   ]
  },
  {
   "cell_type": "code",
   "execution_count": null,
   "id": "fc13f284-39a1-4ec9-9358-28219b985626",
   "metadata": {},
   "outputs": [],
   "source": [
    "test_df.head()"
   ]
  },
  {
   "cell_type": "markdown",
   "id": "7cae7a57-5dbf-4793-bd88-ec5247af29bf",
   "metadata": {},
   "source": [
    "count train and test dataset "
   ]
  },
  {
   "cell_type": "code",
   "execution_count": null,
   "id": "a9918540-0b37-491b-8868-527596938cdb",
   "metadata": {},
   "outputs": [],
   "source": [
    "train_df.count()"
   ]
  },
  {
   "cell_type": "code",
   "execution_count": null,
   "id": "447de87d-68c0-4b09-b555-118ca17c09c6",
   "metadata": {},
   "outputs": [],
   "source": [
    "test_df.count()"
   ]
  },
  {
   "cell_type": "markdown",
   "id": "4a3a43e8-0af7-497c-affe-6a47bdfa82cc",
   "metadata": {},
   "source": [
    "Export train and test dataframe"
   ]
  },
  {
   "cell_type": "code",
   "execution_count": null,
   "id": "d78701c4-8df1-4372-a0b8-3fb279cb51a7",
   "metadata": {},
   "outputs": [],
   "source": [
    "train_df.to_csv('../The/train.csv', index = False)\n",
    "test_df.to_csv(r'../The/test.csv', index = False)"
   ]
  },
  {
   "cell_type": "code",
   "execution_count": null,
   "id": "b2995c82-4663-4275-b880-f9b0e70d7245",
   "metadata": {},
   "outputs": [],
   "source": [
    "train_unlabelled_df = pd.read_csv('../The/train_unlabelled.csv', index_col = [0])\n",
    "train_unlabelled_df"
   ]
  },
  {
   "cell_type": "markdown",
   "id": "a28f58c7-c2ff-49d0-a33c-7e913f6414c7",
   "metadata": {},
   "source": [
    "## check n run"
   ]
  },
  {
   "cell_type": "code",
   "execution_count": 1,
   "id": "c74e1d72-6237-42bf-ba8c-50f4499f36ed",
   "metadata": {},
   "outputs": [],
   "source": [
    "import pandas as pd"
   ]
  },
  {
   "cell_type": "code",
   "execution_count": 2,
   "id": "cfbc739e-1ea1-4924-bc29-ef5df41fd8a7",
   "metadata": {},
   "outputs": [],
   "source": [
    "test_df  = pd.read_csv('../The/test.csv')\n",
    "train_df = pd.read_csv('../The/train.csv')\n",
    "train_unlabelled_df = pd.read_csv('../The/train_unlabelled.csv', index_col = [0])"
   ]
  },
  {
   "cell_type": "code",
   "execution_count": 3,
   "id": "c6d40dac-2b32-436c-9167-a30e1912ed04",
   "metadata": {},
   "outputs": [
    {
     "data": {
      "text/html": [
       "<div>\n",
       "<style scoped>\n",
       "    .dataframe tbody tr th:only-of-type {\n",
       "        vertical-align: middle;\n",
       "    }\n",
       "\n",
       "    .dataframe tbody tr th {\n",
       "        vertical-align: top;\n",
       "    }\n",
       "\n",
       "    .dataframe thead th {\n",
       "        text-align: right;\n",
       "    }\n",
       "</style>\n",
       "<table border=\"1\" class=\"dataframe\">\n",
       "  <thead>\n",
       "    <tr style=\"text-align: right;\">\n",
       "      <th></th>\n",
       "      <th>id</th>\n",
       "      <th>text</th>\n",
       "      <th>Label</th>\n",
       "    </tr>\n",
       "  </thead>\n",
       "  <tbody>\n",
       "    <tr>\n",
       "      <th>0</th>\n",
       "      <td>1316740974190630126</td>\n",
       "      <td>titisan air mata kini kekeringan</td>\n",
       "      <td>0</td>\n",
       "    </tr>\n",
       "    <tr>\n",
       "      <th>1</th>\n",
       "      <td>1316740974190631210</td>\n",
       "      <td>tni polri serta satpol pp dki menyambangi loka...</td>\n",
       "      <td>0</td>\n",
       "    </tr>\n",
       "    <tr>\n",
       "      <th>2</th>\n",
       "      <td>1355811699857604608</td>\n",
       "      <td>Gempa Mag:5.2, 31-Jan-21 16:28:55 WIB, Lok:5....</td>\n",
       "      <td>1</td>\n",
       "    </tr>\n",
       "    <tr>\n",
       "      <th>3</th>\n",
       "      <td>1316740974190629802</td>\n",
       "      <td>berbagai klaster penyebaran covid 19 kita moni...</td>\n",
       "      <td>0</td>\n",
       "    </tr>\n",
       "    <tr>\n",
       "      <th>4</th>\n",
       "      <td>1316740974190629578</td>\n",
       "      <td>saya tetap optimistis perekonomian indonesia a...</td>\n",
       "      <td>0</td>\n",
       "    </tr>\n",
       "  </tbody>\n",
       "</table>\n",
       "</div>"
      ],
      "text/plain": [
       "                    id                                               text  \\\n",
       "0  1316740974190630126                   titisan air mata kini kekeringan   \n",
       "1  1316740974190631210  tni polri serta satpol pp dki menyambangi loka...   \n",
       "2  1355811699857604608   Gempa Mag:5.2, 31-Jan-21 16:28:55 WIB, Lok:5....   \n",
       "3  1316740974190629802  berbagai klaster penyebaran covid 19 kita moni...   \n",
       "4  1316740974190629578  saya tetap optimistis perekonomian indonesia a...   \n",
       "\n",
       "   Label  \n",
       "0      0  \n",
       "1      0  \n",
       "2      1  \n",
       "3      0  \n",
       "4      0  "
      ]
     },
     "execution_count": 3,
     "metadata": {},
     "output_type": "execute_result"
    }
   ],
   "source": [
    "test_df.head()"
   ]
  },
  {
   "cell_type": "code",
   "execution_count": 4,
   "id": "552eb7be-fb02-4bf1-a415-63a255179020",
   "metadata": {},
   "outputs": [
    {
     "data": {
      "text/html": [
       "<div>\n",
       "<style scoped>\n",
       "    .dataframe tbody tr th:only-of-type {\n",
       "        vertical-align: middle;\n",
       "    }\n",
       "\n",
       "    .dataframe tbody tr th {\n",
       "        vertical-align: top;\n",
       "    }\n",
       "\n",
       "    .dataframe thead th {\n",
       "        text-align: right;\n",
       "    }\n",
       "</style>\n",
       "<table border=\"1\" class=\"dataframe\">\n",
       "  <thead>\n",
       "    <tr style=\"text-align: right;\">\n",
       "      <th></th>\n",
       "      <th>id</th>\n",
       "      <th>text</th>\n",
       "      <th>Label</th>\n",
       "    </tr>\n",
       "  </thead>\n",
       "  <tbody>\n",
       "    <tr>\n",
       "      <th>0</th>\n",
       "      <td>1346427759858393089</td>\n",
       "      <td>Gempa Mag:4.8, 05/01/2021 18:56:21 (Pusat gem...</td>\n",
       "      <td>1</td>\n",
       "    </tr>\n",
       "    <tr>\n",
       "      <th>1</th>\n",
       "      <td>1316740974190631449</td>\n",
       "      <td>idha nama pemilik perusahaan yg bikin banjir a...</td>\n",
       "      <td>0</td>\n",
       "    </tr>\n",
       "    <tr>\n",
       "      <th>2</th>\n",
       "      <td>1316740974190630394</td>\n",
       "      <td>web kritik film danieldokter tariz aryaapepe r...</td>\n",
       "      <td>0</td>\n",
       "    </tr>\n",
       "    <tr>\n",
       "      <th>3</th>\n",
       "      <td>1316740974190630928</td>\n",
       "      <td>penjelasan fpi ganti nama jadi front persatuan...</td>\n",
       "      <td>0</td>\n",
       "    </tr>\n",
       "    <tr>\n",
       "      <th>4</th>\n",
       "      <td>1320644218503581696</td>\n",
       "      <td>Gempa Mag:5.0, 26-Oct-20 15:26:37 WIB, Lok:0....</td>\n",
       "      <td>1</td>\n",
       "    </tr>\n",
       "  </tbody>\n",
       "</table>\n",
       "</div>"
      ],
      "text/plain": [
       "                    id                                               text  \\\n",
       "0  1346427759858393089   Gempa Mag:4.8, 05/01/2021 18:56:21 (Pusat gem...   \n",
       "1  1316740974190631449  idha nama pemilik perusahaan yg bikin banjir a...   \n",
       "2  1316740974190630394  web kritik film danieldokter tariz aryaapepe r...   \n",
       "3  1316740974190630928  penjelasan fpi ganti nama jadi front persatuan...   \n",
       "4  1320644218503581696   Gempa Mag:5.0, 26-Oct-20 15:26:37 WIB, Lok:0....   \n",
       "\n",
       "   Label  \n",
       "0      1  \n",
       "1      0  \n",
       "2      0  \n",
       "3      0  \n",
       "4      1  "
      ]
     },
     "execution_count": 4,
     "metadata": {},
     "output_type": "execute_result"
    }
   ],
   "source": [
    "train_df.head()"
   ]
  },
  {
   "cell_type": "code",
   "execution_count": 5,
   "id": "adfffa3c-8a11-4360-a388-be4c7824809c",
   "metadata": {},
   "outputs": [
    {
     "data": {
      "text/plain": [
       "id       4234\n",
       "text     4234\n",
       "Label    4234\n",
       "dtype: int64"
      ]
     },
     "execution_count": 5,
     "metadata": {},
     "output_type": "execute_result"
    }
   ],
   "source": [
    "train_df.count()"
   ]
  },
  {
   "cell_type": "code",
   "execution_count": 6,
   "id": "70299a6a-394f-403c-b4bd-b47be100c796",
   "metadata": {},
   "outputs": [
    {
     "data": {
      "text/html": [
       "<div>\n",
       "<style scoped>\n",
       "    .dataframe tbody tr th:only-of-type {\n",
       "        vertical-align: middle;\n",
       "    }\n",
       "\n",
       "    .dataframe tbody tr th {\n",
       "        vertical-align: top;\n",
       "    }\n",
       "\n",
       "    .dataframe thead th {\n",
       "        text-align: right;\n",
       "    }\n",
       "</style>\n",
       "<table border=\"1\" class=\"dataframe\">\n",
       "  <thead>\n",
       "    <tr style=\"text-align: right;\">\n",
       "      <th></th>\n",
       "      <th>text</th>\n",
       "    </tr>\n",
       "  </thead>\n",
       "  <tbody>\n",
       "    <tr>\n",
       "      <th>0</th>\n",
       "      <td>Gempa Mag:4.8, 05/01/2021 18:56:21 (Pusat gem...</td>\n",
       "    </tr>\n",
       "    <tr>\n",
       "      <th>1</th>\n",
       "      <td>idha nama pemilik perusahaan yg bikin banjir a...</td>\n",
       "    </tr>\n",
       "    <tr>\n",
       "      <th>2</th>\n",
       "      <td>web kritik film danieldokter tariz aryaapepe r...</td>\n",
       "    </tr>\n",
       "    <tr>\n",
       "      <th>3</th>\n",
       "      <td>penjelasan fpi ganti nama jadi front persatuan...</td>\n",
       "    </tr>\n",
       "    <tr>\n",
       "      <th>4</th>\n",
       "      <td>Gempa Mag:5.0, 26-Oct-20 15:26:37 WIB, Lok:0....</td>\n",
       "    </tr>\n",
       "  </tbody>\n",
       "</table>\n",
       "</div>"
      ],
      "text/plain": [
       "                                                text\n",
       "0   Gempa Mag:4.8, 05/01/2021 18:56:21 (Pusat gem...\n",
       "1  idha nama pemilik perusahaan yg bikin banjir a...\n",
       "2  web kritik film danieldokter tariz aryaapepe r...\n",
       "3  penjelasan fpi ganti nama jadi front persatuan...\n",
       "4   Gempa Mag:5.0, 26-Oct-20 15:26:37 WIB, Lok:0...."
      ]
     },
     "execution_count": 6,
     "metadata": {},
     "output_type": "execute_result"
    }
   ],
   "source": [
    "train_unlabelled_df.head()"
   ]
  },
  {
   "cell_type": "markdown",
   "id": "c181913f-ea58-46ad-a3dc-6d87d4529a00",
   "metadata": {
    "tags": []
   },
   "source": [
    "# Building label using RubrixUI"
   ]
  },
  {
   "cell_type": "markdown",
   "id": "5f520616-8edb-47c5-92d2-db3076627417",
   "metadata": {
    "tags": []
   },
   "source": [
    "## Import Dataset to Rubrix"
   ]
  },
  {
   "cell_type": "code",
   "execution_count": null,
   "id": "855c75c7-b305-415f-b330-c982da1bec25",
   "metadata": {},
   "outputs": [],
   "source": [
    "# run python -m rubrix on CMD 1st"
   ]
  },
  {
   "cell_type": "code",
   "execution_count": 7,
   "id": "4e95b079-2b74-49e2-9a68-7794576d9858",
   "metadata": {},
   "outputs": [],
   "source": [
    "import rubrix as rb"
   ]
  },
  {
   "cell_type": "code",
   "execution_count": 8,
   "id": "2b9b552e-e404-4dbd-ba4e-7b07b5dc549c",
   "metadata": {},
   "outputs": [
    {
     "name": "stderr",
     "output_type": "stream",
     "text": [
      "C:\\Users\\arkan\\anaconda3\\envs\\Skripshit\\lib\\site-packages\\tqdm\\auto.py:22: TqdmWarning: IProgress not found. Please update jupyter and ipywidgets. See https://ipywidgets.readthedocs.io/en/stable/user_install.html\n",
      "  from .autonotebook import tqdm as notebook_tqdm\n",
      "100%|█████████████████████████████████████████████████████████████████████████████| 6049/6049 [00:40<00:00, 149.75it/s]"
     ]
    },
    {
     "name": "stdout",
     "output_type": "stream",
     "text": [
      "6049 records logged to http://localhost:6900/datasets/rubrix/ws_natural_disaster\n"
     ]
    },
    {
     "name": "stderr",
     "output_type": "stream",
     "text": [
      "\n"
     ]
    },
    {
     "data": {
      "text/plain": [
       "BulkResponse(dataset='ws_natural_disaster', processed=6049, failed=0)"
      ]
     },
     "execution_count": 8,
     "metadata": {},
     "output_type": "execute_result"
    }
   ],
   "source": [
    "# build records from the train dataset\n",
    "records = [\n",
    "    rb.TextClassificationRecord(\n",
    "        text=row.text,\n",
    "        #metadata={\"id\": row.id} \n",
    "    )\n",
    "    for i,row in train_unlabelled_df.iterrows()\n",
    "]\n",
    "\n",
    "# build records from the test dataset with annotation\n",
    "labels = [\"NOT_ND\", \"ND\"]\n",
    "records += [\n",
    "    rb.TextClassificationRecord(\n",
    "        text=row.text,\n",
    "        annotation=labels[row.Label],\n",
    "        #metadata={\"id\": row.id}\n",
    "    )\n",
    "    for i,row in test_df.iterrows()\n",
    "]\n",
    "\n",
    "# log records to Rubrix\n",
    "rb.log(records, name=\"ws_natural_disaster\")"
   ]
  },
  {
   "cell_type": "markdown",
   "id": "e291327d-6f8c-4dfd-bf4a-f1041bcbe242",
   "metadata": {
    "tags": []
   },
   "source": [
    "## Evaluate Weak Label"
   ]
  },
  {
   "cell_type": "code",
   "execution_count": 10,
   "id": "e1159edf-fcba-47e7-a9d0-def6e1210967",
   "metadata": {},
   "outputs": [
    {
     "name": "stderr",
     "output_type": "stream",
     "text": [
      "Preparing rules: 100%|█████████████████████████████████████████████████████████████████| 17/17 [00:08<00:00,  1.90it/s]\n",
      "Applying rules: 100%|███████████████████████████████████████████████████████████| 6049/6049 [00:00<00:00, 73770.21it/s]\n"
     ]
    }
   ],
   "source": [
    "from rubrix.labeling.text_classification import WeakLabels\n",
    "\n",
    "weak_labels = WeakLabels(dataset=\"ws_natural_disaster\")"
   ]
  },
  {
   "cell_type": "code",
   "execution_count": 11,
   "id": "16b2f27e-1d90-4cc3-a107-7f689408757d",
   "metadata": {},
   "outputs": [
    {
     "data": {
      "text/html": [
       "<div>\n",
       "<style scoped>\n",
       "    .dataframe tbody tr th:only-of-type {\n",
       "        vertical-align: middle;\n",
       "    }\n",
       "\n",
       "    .dataframe tbody tr th {\n",
       "        vertical-align: top;\n",
       "    }\n",
       "\n",
       "    .dataframe thead th {\n",
       "        text-align: right;\n",
       "    }\n",
       "</style>\n",
       "<table border=\"1\" class=\"dataframe\">\n",
       "  <thead>\n",
       "    <tr style=\"text-align: right;\">\n",
       "      <th></th>\n",
       "      <th>label</th>\n",
       "      <th>coverage</th>\n",
       "      <th>annotated_coverage</th>\n",
       "      <th>overlaps</th>\n",
       "      <th>conflicts</th>\n",
       "      <th>correct</th>\n",
       "      <th>incorrect</th>\n",
       "      <th>precision</th>\n",
       "    </tr>\n",
       "  </thead>\n",
       "  <tbody>\n",
       "    <tr>\n",
       "      <th>bmkg</th>\n",
       "      <td>{ND}</td>\n",
       "      <td>0.281865</td>\n",
       "      <td>0.277686</td>\n",
       "      <td>0.275913</td>\n",
       "      <td>0.004629</td>\n",
       "      <td>493</td>\n",
       "      <td>11</td>\n",
       "      <td>0.978175</td>\n",
       "    </tr>\n",
       "    <tr>\n",
       "      <th>wib</th>\n",
       "      <td>{ND}</td>\n",
       "      <td>0.296743</td>\n",
       "      <td>0.298072</td>\n",
       "      <td>0.228468</td>\n",
       "      <td>0.003141</td>\n",
       "      <td>537</td>\n",
       "      <td>4</td>\n",
       "      <td>0.992606</td>\n",
       "    </tr>\n",
       "    <tr>\n",
       "      <th>lok</th>\n",
       "      <td>{ND}</td>\n",
       "      <td>0.163994</td>\n",
       "      <td>0.166391</td>\n",
       "      <td>0.163994</td>\n",
       "      <td>0.000000</td>\n",
       "      <td>302</td>\n",
       "      <td>0</td>\n",
       "      <td>1.000000</td>\n",
       "    </tr>\n",
       "    <tr>\n",
       "      <th>mmi</th>\n",
       "      <td>{ND}</td>\n",
       "      <td>0.188296</td>\n",
       "      <td>0.187879</td>\n",
       "      <td>0.188296</td>\n",
       "      <td>0.000000</td>\n",
       "      <td>341</td>\n",
       "      <td>0</td>\n",
       "      <td>1.000000</td>\n",
       "    </tr>\n",
       "    <tr>\n",
       "      <th>dirasakan</th>\n",
       "      <td>{ND}</td>\n",
       "      <td>0.188461</td>\n",
       "      <td>0.187328</td>\n",
       "      <td>0.187965</td>\n",
       "      <td>0.000165</td>\n",
       "      <td>339</td>\n",
       "      <td>1</td>\n",
       "      <td>0.997059</td>\n",
       "    </tr>\n",
       "    <tr>\n",
       "      <th>laut</th>\n",
       "      <td>{ND}</td>\n",
       "      <td>0.134898</td>\n",
       "      <td>0.129477</td>\n",
       "      <td>0.132088</td>\n",
       "      <td>0.002480</td>\n",
       "      <td>230</td>\n",
       "      <td>5</td>\n",
       "      <td>0.978723</td>\n",
       "    </tr>\n",
       "    <tr>\n",
       "      <th>berada</th>\n",
       "      <td>{ND}</td>\n",
       "      <td>0.143660</td>\n",
       "      <td>0.139394</td>\n",
       "      <td>0.141180</td>\n",
       "      <td>0.001488</td>\n",
       "      <td>248</td>\n",
       "      <td>5</td>\n",
       "      <td>0.980237</td>\n",
       "    </tr>\n",
       "    <tr>\n",
       "      <th>magnitud*</th>\n",
       "      <td>{ND}</td>\n",
       "      <td>0.093735</td>\n",
       "      <td>0.091460</td>\n",
       "      <td>0.093404</td>\n",
       "      <td>0.000661</td>\n",
       "      <td>164</td>\n",
       "      <td>2</td>\n",
       "      <td>0.987952</td>\n",
       "    </tr>\n",
       "    <tr>\n",
       "      <th>untuk</th>\n",
       "      <td>{NOT_ND}</td>\n",
       "      <td>0.064473</td>\n",
       "      <td>0.066667</td>\n",
       "      <td>0.036700</td>\n",
       "      <td>0.002976</td>\n",
       "      <td>106</td>\n",
       "      <td>15</td>\n",
       "      <td>0.876033</td>\n",
       "    </tr>\n",
       "    <tr>\n",
       "      <th>ada</th>\n",
       "      <td>{NOT_ND}</td>\n",
       "      <td>0.076046</td>\n",
       "      <td>0.070523</td>\n",
       "      <td>0.035212</td>\n",
       "      <td>0.005621</td>\n",
       "      <td>112</td>\n",
       "      <td>16</td>\n",
       "      <td>0.875000</td>\n",
       "    </tr>\n",
       "    <tr>\n",
       "      <th>itu</th>\n",
       "      <td>{NOT_ND}</td>\n",
       "      <td>0.059183</td>\n",
       "      <td>0.065014</td>\n",
       "      <td>0.033063</td>\n",
       "      <td>0.003141</td>\n",
       "      <td>106</td>\n",
       "      <td>12</td>\n",
       "      <td>0.898305</td>\n",
       "    </tr>\n",
       "    <tr>\n",
       "      <th>saya</th>\n",
       "      <td>{NOT_ND}</td>\n",
       "      <td>0.041990</td>\n",
       "      <td>0.041322</td>\n",
       "      <td>0.029426</td>\n",
       "      <td>0.000331</td>\n",
       "      <td>74</td>\n",
       "      <td>1</td>\n",
       "      <td>0.986667</td>\n",
       "    </tr>\n",
       "    <tr>\n",
       "      <th>kita</th>\n",
       "      <td>{NOT_ND}</td>\n",
       "      <td>0.038023</td>\n",
       "      <td>0.036915</td>\n",
       "      <td>0.024963</td>\n",
       "      <td>0.001818</td>\n",
       "      <td>61</td>\n",
       "      <td>6</td>\n",
       "      <td>0.910448</td>\n",
       "    </tr>\n",
       "    <tr>\n",
       "      <th>pray*</th>\n",
       "      <td>{NOT_ND}</td>\n",
       "      <td>0.002976</td>\n",
       "      <td>0.002755</td>\n",
       "      <td>0.001157</td>\n",
       "      <td>0.000000</td>\n",
       "      <td>4</td>\n",
       "      <td>1</td>\n",
       "      <td>0.800000</td>\n",
       "    </tr>\n",
       "    <tr>\n",
       "      <th>bisa</th>\n",
       "      <td>{NOT_ND}</td>\n",
       "      <td>0.036039</td>\n",
       "      <td>0.040771</td>\n",
       "      <td>0.019011</td>\n",
       "      <td>0.000992</td>\n",
       "      <td>71</td>\n",
       "      <td>3</td>\n",
       "      <td>0.959459</td>\n",
       "    </tr>\n",
       "    <tr>\n",
       "      <th>ngga</th>\n",
       "      <td>{NOT_ND}</td>\n",
       "      <td>0.009754</td>\n",
       "      <td>0.014876</td>\n",
       "      <td>0.008101</td>\n",
       "      <td>0.000000</td>\n",
       "      <td>27</td>\n",
       "      <td>0</td>\n",
       "      <td>1.000000</td>\n",
       "    </tr>\n",
       "    <tr>\n",
       "      <th>gimana</th>\n",
       "      <td>{NOT_ND}</td>\n",
       "      <td>0.004629</td>\n",
       "      <td>0.006612</td>\n",
       "      <td>0.002645</td>\n",
       "      <td>0.000000</td>\n",
       "      <td>11</td>\n",
       "      <td>1</td>\n",
       "      <td>0.916667</td>\n",
       "    </tr>\n",
       "    <tr>\n",
       "      <th>total</th>\n",
       "      <td>{NOT_ND, ND}</td>\n",
       "      <td>0.585717</td>\n",
       "      <td>0.587879</td>\n",
       "      <td>0.362539</td>\n",
       "      <td>0.012233</td>\n",
       "      <td>3226</td>\n",
       "      <td>83</td>\n",
       "      <td>0.974917</td>\n",
       "    </tr>\n",
       "  </tbody>\n",
       "</table>\n",
       "</div>"
      ],
      "text/plain": [
       "                  label  coverage  annotated_coverage  overlaps  conflicts  \\\n",
       "bmkg               {ND}  0.281865            0.277686  0.275913   0.004629   \n",
       "wib                {ND}  0.296743            0.298072  0.228468   0.003141   \n",
       "lok                {ND}  0.163994            0.166391  0.163994   0.000000   \n",
       "mmi                {ND}  0.188296            0.187879  0.188296   0.000000   \n",
       "dirasakan          {ND}  0.188461            0.187328  0.187965   0.000165   \n",
       "laut               {ND}  0.134898            0.129477  0.132088   0.002480   \n",
       "berada             {ND}  0.143660            0.139394  0.141180   0.001488   \n",
       "magnitud*          {ND}  0.093735            0.091460  0.093404   0.000661   \n",
       "untuk          {NOT_ND}  0.064473            0.066667  0.036700   0.002976   \n",
       "ada            {NOT_ND}  0.076046            0.070523  0.035212   0.005621   \n",
       "itu            {NOT_ND}  0.059183            0.065014  0.033063   0.003141   \n",
       "saya           {NOT_ND}  0.041990            0.041322  0.029426   0.000331   \n",
       "kita           {NOT_ND}  0.038023            0.036915  0.024963   0.001818   \n",
       "pray*          {NOT_ND}  0.002976            0.002755  0.001157   0.000000   \n",
       "bisa           {NOT_ND}  0.036039            0.040771  0.019011   0.000992   \n",
       "ngga           {NOT_ND}  0.009754            0.014876  0.008101   0.000000   \n",
       "gimana         {NOT_ND}  0.004629            0.006612  0.002645   0.000000   \n",
       "total      {NOT_ND, ND}  0.585717            0.587879  0.362539   0.012233   \n",
       "\n",
       "           correct  incorrect  precision  \n",
       "bmkg           493         11   0.978175  \n",
       "wib            537          4   0.992606  \n",
       "lok            302          0   1.000000  \n",
       "mmi            341          0   1.000000  \n",
       "dirasakan      339          1   0.997059  \n",
       "laut           230          5   0.978723  \n",
       "berada         248          5   0.980237  \n",
       "magnitud*      164          2   0.987952  \n",
       "untuk          106         15   0.876033  \n",
       "ada            112         16   0.875000  \n",
       "itu            106         12   0.898305  \n",
       "saya            74          1   0.986667  \n",
       "kita            61          6   0.910448  \n",
       "pray*            4          1   0.800000  \n",
       "bisa            71          3   0.959459  \n",
       "ngga            27          0   1.000000  \n",
       "gimana          11          1   0.916667  \n",
       "total         3226         83   0.974917  "
      ]
     },
     "execution_count": 11,
     "metadata": {},
     "output_type": "execute_result"
    }
   ],
   "source": [
    "weak_labels.summary()"
   ]
  },
  {
   "cell_type": "code",
   "execution_count": 12,
   "id": "2984eb1e-51cb-48ea-a210-8a1832fc4f78",
   "metadata": {},
   "outputs": [
    {
     "name": "stderr",
     "output_type": "stream",
     "text": [
      "100%|███████████████████████████████████████████████████████████████████████████| 100/100 [00:00<00:00, 1019.83epoch/s]\n"
     ]
    }
   ],
   "source": [
    "from rubrix.labeling.text_classification import Snorkel\n",
    "\n",
    "# create the label model\n",
    "label_model = Snorkel(weak_labels)\n",
    "\n",
    "# fit the model\n",
    "label_model.fit()"
   ]
  },
  {
   "cell_type": "code",
   "execution_count": 13,
   "id": "3d32774f-aa92-4e64-9bf4-7fad9dfc37e2",
   "metadata": {},
   "outputs": [
    {
     "name": "stdout",
     "output_type": "stream",
     "text": [
      "              precision    recall  f1-score   support\n",
      "\n",
      "          ND       0.96      0.95      0.95       673\n",
      "      NOT_ND       0.91      0.93      0.92       394\n",
      "\n",
      "    accuracy                           0.94      1067\n",
      "   macro avg       0.93      0.94      0.94      1067\n",
      "weighted avg       0.94      0.94      0.94      1067\n",
      "\n"
     ]
    }
   ],
   "source": [
    "print(label_model.score(output_str=True))"
   ]
  },
  {
   "cell_type": "markdown",
   "id": "56c33879-d2b6-484f-81c2-601177346f10",
   "metadata": {
    "tags": []
   },
   "source": [
    "## Prep train set"
   ]
  },
  {
   "cell_type": "code",
   "execution_count": 15,
   "id": "7e3df849-0483-4ade-b1c4-07e31614a510",
   "metadata": {},
   "outputs": [],
   "source": [
    "\n",
    "# get records with the predictions from the label model\n",
    "records = label_model.predict()\n",
    "# you can replace this line with\n",
    "# records = rb.read_datasets(\n",
    "#    load_dataset(\"rubrix/news\", split=\"train\"),\n",
    "#    task=\"TextClassification\",\n",
    "# )\n",
    "\n",
    "# we could also use the `weak_labels.label2int` dict\n",
    "label2int = {\"NOT_ND\":0, \"ND\": 1}\n",
    "\n",
    "# extract training data\n",
    "X_train = [rec.text for rec in records]\n",
    "y_train = [label2int[rec.prediction[0][0]] for rec in records]\n"
   ]
  },
  {
   "cell_type": "code",
   "execution_count": 16,
   "id": "e0971d2d-47cc-4338-8c76-a29b7d2b6a93",
   "metadata": {},
   "outputs": [
    {
     "data": {
      "text/html": [
       "<div>\n",
       "<style scoped>\n",
       "    .dataframe tbody tr th:only-of-type {\n",
       "        vertical-align: middle;\n",
       "    }\n",
       "\n",
       "    .dataframe tbody tr th {\n",
       "        vertical-align: top;\n",
       "    }\n",
       "\n",
       "    .dataframe thead th {\n",
       "        text-align: right;\n",
       "    }\n",
       "</style>\n",
       "<table border=\"1\" class=\"dataframe\">\n",
       "  <thead>\n",
       "    <tr style=\"text-align: right;\">\n",
       "      <th></th>\n",
       "      <th>text</th>\n",
       "      <th>label</th>\n",
       "    </tr>\n",
       "  </thead>\n",
       "  <tbody>\n",
       "    <tr>\n",
       "      <th>0</th>\n",
       "      <td>Gempa Mag:4.1, 18-Des-20 22:06:58 WIB, Lok:9.20 LS, 110.83 BT (Pusat gempa berada di laut 117 km BaratDaya Pacitan), Kedlmn:10 Km Dirasakan (MMI) II Bantul BMKG</td>\n",
       "      <td>1</td>\n",
       "    </tr>\n",
       "    <tr>\n",
       "      <th>1</th>\n",
       "      <td>publik yakin kinerja pemerintah bisa lebih baik di 2021</td>\n",
       "      <td>0</td>\n",
       "    </tr>\n",
       "    <tr>\n",
       "      <th>2</th>\n",
       "      <td>apapun yang terjadi pada alam saat ini itu sudah menjadi kehendak yang kuasa jangan dikaitkan dengan ramalan ramalan orang biasa tuhan sudah murka masa masih saja kalian tidak percaya pada kebesarannya ingattuhan krakatau merapi gempa bencana dentuman</td>\n",
       "      <td>0</td>\n",
       "    </tr>\n",
       "    <tr>\n",
       "      <th>3</th>\n",
       "      <td>Gempa Mag:4.2, 21-Jan-21 12:42:34 WIB, Lok:2.74 LS, 122.30 BT (Pusat gempa berada di laut 20 km timur Bahodopi-Kab. Morowali), Kedlmn:10 Km Dirasakan (MMI) III Bahodopi BMKG</td>\n",
       "      <td>1</td>\n",
       "    </tr>\n",
       "    <tr>\n",
       "      <th>4</th>\n",
       "      <td>btw kok bmkg ga ngomong apa dah cuma gempa yg dideket palu</td>\n",
       "      <td>1</td>\n",
       "    </tr>\n",
       "    <tr>\n",
       "      <th>...</th>\n",
       "      <td>...</td>\n",
       "      <td>...</td>\n",
       "    </tr>\n",
       "    <tr>\n",
       "      <th>2471</th>\n",
       "      <td>2 mean lemah thd data pencilan outlier oleh karena itu mean jarang digunakan untuk merepresentasikan populasi scr keseluruhan misalnya di 1 kls mean tinggi badan 1 7 m ternyata di kls tsb ada 1 anak yg tingginya 2 1 m misal makanya meannya kepengaruh sama outlier tadi</td>\n",
       "      <td>0</td>\n",
       "    </tr>\n",
       "    <tr>\n",
       "      <th>2472</th>\n",
       "      <td>Gempa Mag:4.9, 20-Des-20 18:40:46 WIB, Lok:1.70 LU, 126.79 BT (Pusat gempa berada dilaut 97 km Barat Laut Halmahera Barat), Kedlmn:13 Km Dirasakan (MMI) II-III Ternate, II-III Jailolo BMKG</td>\n",
       "      <td>1</td>\n",
       "    </tr>\n",
       "    <tr>\n",
       "      <th>2473</th>\n",
       "      <td>Gempa Dirasakan Magnitudo: 3.0, Kedalaman: 10 km, 30 Mei 2021 21:06:17 WIB, Koordinat: 5.88 LU-95.24 BT (Pusat gempa berada di darat 8 km BaratDaya Kota Sabang), Dirasakan (MMI): II Sabang BMKG</td>\n",
       "      <td>1</td>\n",
       "    </tr>\n",
       "    <tr>\n",
       "      <th>2474</th>\n",
       "      <td>Gempa Mag:5.7, 19-Apr-21 14:07:37 WIB, Lok:8.00 LS, 127.89 BT (Pusat gempa berada di laut, 20 km Timur Laut Maluku Barat Daya), Kedlmn:23 Km Dirasakan (MMI) III Moa BMKG</td>\n",
       "      <td>1</td>\n",
       "    </tr>\n",
       "    <tr>\n",
       "      <th>2475</th>\n",
       "      <td>Gempa Mag:2.8, 10-Mar-21 18:21:20 WIB, Lok:4.08 LS, 122.42 BT (Pusat gempa berada di darat 5 km tenggara Kab. Konawe Selatan), Kedlmn:10 Km Dirasakan (MMI) II-III Ranomeeto BMKG</td>\n",
       "      <td>1</td>\n",
       "    </tr>\n",
       "  </tbody>\n",
       "</table>\n",
       "<p>2476 rows × 2 columns</p>\n",
       "</div>"
      ],
      "text/plain": [
       "                                                                                                                                                                                                                                                                              text  \\\n",
       "0                                                                                                                Gempa Mag:4.1, 18-Des-20 22:06:58 WIB, Lok:9.20 LS, 110.83 BT (Pusat gempa berada di laut 117 km BaratDaya Pacitan), Kedlmn:10 Km Dirasakan (MMI) II Bantul BMKG    \n",
       "1                                                                                                                                                                                                                          publik yakin kinerja pemerintah bisa lebih baik di 2021   \n",
       "2                      apapun yang terjadi pada alam saat ini itu sudah menjadi kehendak yang kuasa jangan dikaitkan dengan ramalan ramalan orang biasa tuhan sudah murka masa masih saja kalian tidak percaya pada kebesarannya ingattuhan krakatau merapi gempa bencana dentuman   \n",
       "3                                                                                                   Gempa Mag:4.2, 21-Jan-21 12:42:34 WIB, Lok:2.74 LS, 122.30 BT (Pusat gempa berada di laut 20 km timur Bahodopi-Kab. Morowali), Kedlmn:10 Km Dirasakan (MMI) III Bahodopi BMKG    \n",
       "4                                                                                                                                                                                                                       btw kok bmkg ga ngomong apa dah cuma gempa yg dideket palu   \n",
       "...                                                                                                                                                                                                                                                                            ...   \n",
       "2471  2 mean lemah thd data pencilan outlier oleh karena itu mean jarang digunakan untuk merepresentasikan populasi scr keseluruhan misalnya di 1 kls mean tinggi badan 1 7 m ternyata di kls tsb ada 1 anak yg tingginya 2 1 m misal makanya meannya kepengaruh sama outlier tadi   \n",
       "2472                                                                                 Gempa Mag:4.9, 20-Des-20 18:40:46 WIB, Lok:1.70 LU, 126.79 BT (Pusat gempa berada dilaut 97 km Barat Laut Halmahera Barat), Kedlmn:13 Km Dirasakan (MMI) II-III Ternate, II-III Jailolo BMKG    \n",
       "2473                                                                            Gempa Dirasakan Magnitudo: 3.0, Kedalaman: 10 km, 30 Mei 2021 21:06:17 WIB, Koordinat: 5.88 LU-95.24 BT (Pusat gempa berada di darat 8 km BaratDaya Kota Sabang), Dirasakan (MMI): II Sabang BMKG    \n",
       "2474                                                                                                    Gempa Mag:5.7, 19-Apr-21 14:07:37 WIB, Lok:8.00 LS, 127.89 BT (Pusat gempa berada di laut, 20 km Timur Laut Maluku Barat Daya), Kedlmn:23 Km Dirasakan (MMI) III Moa BMKG    \n",
       "2475                                                                                            Gempa Mag:2.8, 10-Mar-21 18:21:20 WIB, Lok:4.08 LS, 122.42 BT (Pusat gempa berada di darat 5 km tenggara Kab. Konawe Selatan), Kedlmn:10 Km Dirasakan (MMI) II-III Ranomeeto BMKG    \n",
       "\n",
       "      label  \n",
       "0         1  \n",
       "1         0  \n",
       "2         0  \n",
       "3         1  \n",
       "4         1  \n",
       "...     ...  \n",
       "2471      0  \n",
       "2472      1  \n",
       "2473      1  \n",
       "2474      1  \n",
       "2475      1  \n",
       "\n",
       "[2476 rows x 2 columns]"
      ]
     },
     "metadata": {},
     "output_type": "display_data"
    }
   ],
   "source": [
    "\n",
    "# quick look at our training data with the weak labels from our label model\n",
    "with pd.option_context('display.max_colwidth', None):\n",
    "    display(pd.DataFrame({\"text\": X_train, \"label\": y_train}))\n"
   ]
  },
  {
   "cell_type": "code",
   "execution_count": null,
   "id": "1be0bdab-31eb-45fc-9f27-9916d5ae76ca",
   "metadata": {},
   "outputs": [],
   "source": [
    "#records = label_model.predict()\n",
    "#label2int = {'NOT_ND': 0, 'ND': 1}"
   ]
  },
  {
   "cell_type": "code",
   "execution_count": null,
   "id": "d505ff0b-a5ce-4c56-9b2d-55497d05e099",
   "metadata": {},
   "outputs": [],
   "source": [
    "training_data = pd.DataFrame(\n",
    "    [\n",
    "        {\"text\": rec.text, \"label\": label2int[rec.prediction[0][0]]}\n",
    "        for rec in records\n",
    "    ]\n",
    ")"
   ]
  },
  {
   "cell_type": "markdown",
   "id": "7b2dc1e5-7ce5-40d1-bc37-3e8fb7e98431",
   "metadata": {},
   "source": [
    "## Run auto-labelled dataset"
   ]
  },
  {
   "cell_type": "code",
   "execution_count": 1,
   "id": "a7cc1b01-dddd-45d3-b6ed-b2b5e741def6",
   "metadata": {},
   "outputs": [],
   "source": [
    "import pandas as pd\n",
    "training_data = pd.read_csv('../The/train_autolabelled.csv')"
   ]
  },
  {
   "cell_type": "code",
   "execution_count": 3,
   "id": "2d882f95-45ad-4335-892d-62384d182939",
   "metadata": {},
   "outputs": [
    {
     "data": {
      "text/html": [
       "<div>\n",
       "<style scoped>\n",
       "    .dataframe tbody tr th:only-of-type {\n",
       "        vertical-align: middle;\n",
       "    }\n",
       "\n",
       "    .dataframe tbody tr th {\n",
       "        vertical-align: top;\n",
       "    }\n",
       "\n",
       "    .dataframe thead th {\n",
       "        text-align: right;\n",
       "    }\n",
       "</style>\n",
       "<table border=\"1\" class=\"dataframe\">\n",
       "  <thead>\n",
       "    <tr style=\"text-align: right;\">\n",
       "      <th></th>\n",
       "      <th>text</th>\n",
       "      <th>label</th>\n",
       "    </tr>\n",
       "  </thead>\n",
       "  <tbody>\n",
       "    <tr>\n",
       "      <th>0</th>\n",
       "      <td>ini bukan masalah takut atau engga takut ini m...</td>\n",
       "      <td>0</td>\n",
       "    </tr>\n",
       "    <tr>\n",
       "      <th>1</th>\n",
       "      <td>Gempa Mag:3.5, 03-Jan-21 07:54:22 WIB, Lok:2....</td>\n",
       "      <td>1</td>\n",
       "    </tr>\n",
       "    <tr>\n",
       "      <th>2</th>\n",
       "      <td>aku kalo jadi jokowi pusing sih kek udah lah g...</td>\n",
       "      <td>0</td>\n",
       "    </tr>\n",
       "    <tr>\n",
       "      <th>3</th>\n",
       "      <td>Awanpanas guguran Gunung Merapi terjadi pada t...</td>\n",
       "      <td>1</td>\n",
       "    </tr>\n",
       "    <tr>\n",
       "      <th>4</th>\n",
       "      <td>Info Gempa Magnitudo:6.2 SR, 01-Sep-17 00:06:5...</td>\n",
       "      <td>1</td>\n",
       "    </tr>\n",
       "  </tbody>\n",
       "</table>\n",
       "</div>"
      ],
      "text/plain": [
       "                                                text  label\n",
       "0  ini bukan masalah takut atau engga takut ini m...      0\n",
       "1   Gempa Mag:3.5, 03-Jan-21 07:54:22 WIB, Lok:2....      1\n",
       "2  aku kalo jadi jokowi pusing sih kek udah lah g...      0\n",
       "3  Awanpanas guguran Gunung Merapi terjadi pada t...      1\n",
       "4  Info Gempa Magnitudo:6.2 SR, 01-Sep-17 00:06:5...      1"
      ]
     },
     "execution_count": 3,
     "metadata": {},
     "output_type": "execute_result"
    }
   ],
   "source": [
    "training_data.head()"
   ]
  },
  {
   "cell_type": "code",
   "execution_count": 2,
   "id": "d844576a-a4f0-45d0-9f32-1ac87e7e4c8e",
   "metadata": {},
   "outputs": [
    {
     "data": {
      "text/plain": [
       "text     2418\n",
       "label    2418\n",
       "dtype: int64"
      ]
     },
     "execution_count": 2,
     "metadata": {},
     "output_type": "execute_result"
    }
   ],
   "source": [
    "training_data.count()"
   ]
  },
  {
   "cell_type": "code",
   "execution_count": null,
   "id": "10e6a7e1-a4d1-44ac-81aa-a72d6661c8f7",
   "metadata": {},
   "outputs": [],
   "source": [
    "training_data.to_csv(r'../The/train_autolabelled.csv', index = False)"
   ]
  }
 ],
 "metadata": {
  "kernelspec": {
   "display_name": "Python 3 (ipykernel)",
   "language": "python",
   "name": "python3"
  },
  "language_info": {
   "codemirror_mode": {
    "name": "ipython",
    "version": 3
   },
   "file_extension": ".py",
   "mimetype": "text/x-python",
   "name": "python",
   "nbconvert_exporter": "python",
   "pygments_lexer": "ipython3",
   "version": "3.8.13"
  }
 },
 "nbformat": 4,
 "nbformat_minor": 5
}

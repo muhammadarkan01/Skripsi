{
 "cells": [
  {
   "cell_type": "markdown",
   "id": "05b70f8a-6069-40e7-9ef5-2206eb2451e4",
   "metadata": {},
   "source": [
    "# BLMBISA!!"
   ]
  },
  {
   "cell_type": "markdown",
   "id": "e2765072-6906-4f42-a3ae-61a4e670ec4d",
   "metadata": {
    "tags": []
   },
   "source": [
    "# Building label using code"
   ]
  },
  {
   "cell_type": "markdown",
   "id": "8d8de417-7281-40cd-977b-69e1bba99921",
   "metadata": {},
   "source": [
    "## check n run dataset"
   ]
  },
  {
   "cell_type": "code",
   "execution_count": 1,
   "id": "05b2d2f5-6e87-4c3a-8116-83b668a7f0ca",
   "metadata": {},
   "outputs": [],
   "source": [
    "import pandas as pd"
   ]
  },
  {
   "cell_type": "code",
   "execution_count": 2,
   "id": "0d880003-f2fa-4ab0-af82-5989950168bc",
   "metadata": {},
   "outputs": [],
   "source": [
    "test_df  = pd.read_csv('../The/test.csv')\n",
    "train_df = pd.read_csv('../The/train.csv')\n",
    "train_unlabelled_df = pd.read_csv('../The/train_unlabelled.csv', index_col = [0])"
   ]
  },
  {
   "cell_type": "code",
   "execution_count": 3,
   "id": "425e8495-8f0e-4e75-8134-c4dbcd283b36",
   "metadata": {},
   "outputs": [
    {
     "data": {
      "text/html": [
       "<div>\n",
       "<style scoped>\n",
       "    .dataframe tbody tr th:only-of-type {\n",
       "        vertical-align: middle;\n",
       "    }\n",
       "\n",
       "    .dataframe tbody tr th {\n",
       "        vertical-align: top;\n",
       "    }\n",
       "\n",
       "    .dataframe thead th {\n",
       "        text-align: right;\n",
       "    }\n",
       "</style>\n",
       "<table border=\"1\" class=\"dataframe\">\n",
       "  <thead>\n",
       "    <tr style=\"text-align: right;\">\n",
       "      <th></th>\n",
       "      <th>id</th>\n",
       "      <th>text</th>\n",
       "      <th>Label</th>\n",
       "    </tr>\n",
       "  </thead>\n",
       "  <tbody>\n",
       "    <tr>\n",
       "      <th>0</th>\n",
       "      <td>1316740974190630126</td>\n",
       "      <td>titisan air mata kini kekeringan</td>\n",
       "      <td>0</td>\n",
       "    </tr>\n",
       "    <tr>\n",
       "      <th>1</th>\n",
       "      <td>1316740974190631210</td>\n",
       "      <td>tni polri serta satpol pp dki menyambangi loka...</td>\n",
       "      <td>0</td>\n",
       "    </tr>\n",
       "    <tr>\n",
       "      <th>2</th>\n",
       "      <td>1355811699857604608</td>\n",
       "      <td>Gempa Mag:5.2, 31-Jan-21 16:28:55 WIB, Lok:5....</td>\n",
       "      <td>1</td>\n",
       "    </tr>\n",
       "    <tr>\n",
       "      <th>3</th>\n",
       "      <td>1316740974190629802</td>\n",
       "      <td>berbagai klaster penyebaran covid 19 kita moni...</td>\n",
       "      <td>0</td>\n",
       "    </tr>\n",
       "    <tr>\n",
       "      <th>4</th>\n",
       "      <td>1316740974190629578</td>\n",
       "      <td>saya tetap optimistis perekonomian indonesia a...</td>\n",
       "      <td>0</td>\n",
       "    </tr>\n",
       "  </tbody>\n",
       "</table>\n",
       "</div>"
      ],
      "text/plain": [
       "                    id                                               text  \\\n",
       "0  1316740974190630126                   titisan air mata kini kekeringan   \n",
       "1  1316740974190631210  tni polri serta satpol pp dki menyambangi loka...   \n",
       "2  1355811699857604608   Gempa Mag:5.2, 31-Jan-21 16:28:55 WIB, Lok:5....   \n",
       "3  1316740974190629802  berbagai klaster penyebaran covid 19 kita moni...   \n",
       "4  1316740974190629578  saya tetap optimistis perekonomian indonesia a...   \n",
       "\n",
       "   Label  \n",
       "0      0  \n",
       "1      0  \n",
       "2      1  \n",
       "3      0  \n",
       "4      0  "
      ]
     },
     "execution_count": 3,
     "metadata": {},
     "output_type": "execute_result"
    }
   ],
   "source": [
    "test_df.head()"
   ]
  },
  {
   "cell_type": "code",
   "execution_count": 4,
   "id": "78278907-ac44-4b6e-8f8f-c5902d4c9501",
   "metadata": {},
   "outputs": [
    {
     "data": {
      "text/html": [
       "<div>\n",
       "<style scoped>\n",
       "    .dataframe tbody tr th:only-of-type {\n",
       "        vertical-align: middle;\n",
       "    }\n",
       "\n",
       "    .dataframe tbody tr th {\n",
       "        vertical-align: top;\n",
       "    }\n",
       "\n",
       "    .dataframe thead th {\n",
       "        text-align: right;\n",
       "    }\n",
       "</style>\n",
       "<table border=\"1\" class=\"dataframe\">\n",
       "  <thead>\n",
       "    <tr style=\"text-align: right;\">\n",
       "      <th></th>\n",
       "      <th>id</th>\n",
       "      <th>text</th>\n",
       "      <th>Label</th>\n",
       "    </tr>\n",
       "  </thead>\n",
       "  <tbody>\n",
       "    <tr>\n",
       "      <th>0</th>\n",
       "      <td>1346427759858393089</td>\n",
       "      <td>Gempa Mag:4.8, 05/01/2021 18:56:21 (Pusat gem...</td>\n",
       "      <td>1</td>\n",
       "    </tr>\n",
       "    <tr>\n",
       "      <th>1</th>\n",
       "      <td>1316740974190631449</td>\n",
       "      <td>idha nama pemilik perusahaan yg bikin banjir a...</td>\n",
       "      <td>0</td>\n",
       "    </tr>\n",
       "    <tr>\n",
       "      <th>2</th>\n",
       "      <td>1316740974190630394</td>\n",
       "      <td>web kritik film danieldokter tariz aryaapepe r...</td>\n",
       "      <td>0</td>\n",
       "    </tr>\n",
       "    <tr>\n",
       "      <th>3</th>\n",
       "      <td>1316740974190630928</td>\n",
       "      <td>penjelasan fpi ganti nama jadi front persatuan...</td>\n",
       "      <td>0</td>\n",
       "    </tr>\n",
       "    <tr>\n",
       "      <th>4</th>\n",
       "      <td>1320644218503581696</td>\n",
       "      <td>Gempa Mag:5.0, 26-Oct-20 15:26:37 WIB, Lok:0....</td>\n",
       "      <td>1</td>\n",
       "    </tr>\n",
       "  </tbody>\n",
       "</table>\n",
       "</div>"
      ],
      "text/plain": [
       "                    id                                               text  \\\n",
       "0  1346427759858393089   Gempa Mag:4.8, 05/01/2021 18:56:21 (Pusat gem...   \n",
       "1  1316740974190631449  idha nama pemilik perusahaan yg bikin banjir a...   \n",
       "2  1316740974190630394  web kritik film danieldokter tariz aryaapepe r...   \n",
       "3  1316740974190630928  penjelasan fpi ganti nama jadi front persatuan...   \n",
       "4  1320644218503581696   Gempa Mag:5.0, 26-Oct-20 15:26:37 WIB, Lok:0....   \n",
       "\n",
       "   Label  \n",
       "0      1  \n",
       "1      0  \n",
       "2      0  \n",
       "3      0  \n",
       "4      1  "
      ]
     },
     "execution_count": 4,
     "metadata": {},
     "output_type": "execute_result"
    }
   ],
   "source": [
    "train_df.head()"
   ]
  },
  {
   "cell_type": "code",
   "execution_count": 20,
   "id": "e0f8d49c-faa4-49ff-af1e-a9ed30bf09fd",
   "metadata": {},
   "outputs": [
    {
     "data": {
      "text/plain": [
       "id       4234\n",
       "text     4234\n",
       "Label    4234\n",
       "dtype: int64"
      ]
     },
     "execution_count": 20,
     "metadata": {},
     "output_type": "execute_result"
    }
   ],
   "source": [
    "train_df.count()"
   ]
  },
  {
   "cell_type": "code",
   "execution_count": 5,
   "id": "0b835d23-0b60-4461-bd50-542ab70ed89f",
   "metadata": {},
   "outputs": [
    {
     "data": {
      "text/html": [
       "<div>\n",
       "<style scoped>\n",
       "    .dataframe tbody tr th:only-of-type {\n",
       "        vertical-align: middle;\n",
       "    }\n",
       "\n",
       "    .dataframe tbody tr th {\n",
       "        vertical-align: top;\n",
       "    }\n",
       "\n",
       "    .dataframe thead th {\n",
       "        text-align: right;\n",
       "    }\n",
       "</style>\n",
       "<table border=\"1\" class=\"dataframe\">\n",
       "  <thead>\n",
       "    <tr style=\"text-align: right;\">\n",
       "      <th></th>\n",
       "      <th>text</th>\n",
       "    </tr>\n",
       "  </thead>\n",
       "  <tbody>\n",
       "    <tr>\n",
       "      <th>0</th>\n",
       "      <td>Gempa Mag:4.8, 05/01/2021 18:56:21 (Pusat gem...</td>\n",
       "    </tr>\n",
       "    <tr>\n",
       "      <th>1</th>\n",
       "      <td>idha nama pemilik perusahaan yg bikin banjir a...</td>\n",
       "    </tr>\n",
       "    <tr>\n",
       "      <th>2</th>\n",
       "      <td>web kritik film danieldokter tariz aryaapepe r...</td>\n",
       "    </tr>\n",
       "    <tr>\n",
       "      <th>3</th>\n",
       "      <td>penjelasan fpi ganti nama jadi front persatuan...</td>\n",
       "    </tr>\n",
       "    <tr>\n",
       "      <th>4</th>\n",
       "      <td>Gempa Mag:5.0, 26-Oct-20 15:26:37 WIB, Lok:0....</td>\n",
       "    </tr>\n",
       "  </tbody>\n",
       "</table>\n",
       "</div>"
      ],
      "text/plain": [
       "                                                text\n",
       "0   Gempa Mag:4.8, 05/01/2021 18:56:21 (Pusat gem...\n",
       "1  idha nama pemilik perusahaan yg bikin banjir a...\n",
       "2  web kritik film danieldokter tariz aryaapepe r...\n",
       "3  penjelasan fpi ganti nama jadi front persatuan...\n",
       "4   Gempa Mag:5.0, 26-Oct-20 15:26:37 WIB, Lok:0...."
      ]
     },
     "execution_count": 5,
     "metadata": {},
     "output_type": "execute_result"
    }
   ],
   "source": [
    "train_unlabelled_df.head()"
   ]
  },
  {
   "cell_type": "markdown",
   "id": "8ae097b9-61d8-4988-a353-5a3cdae35816",
   "metadata": {
    "tags": []
   },
   "source": [
    "## Import Dataset to Rubrix"
   ]
  },
  {
   "cell_type": "code",
   "execution_count": 6,
   "id": "55879ec0-a8d6-4d2d-8285-c71000a6d7ce",
   "metadata": {},
   "outputs": [],
   "source": [
    "# run python -m rubrix on CMD 1st"
   ]
  },
  {
   "cell_type": "code",
   "execution_count": 1,
   "id": "a07a9003-26ed-4da4-ae53-1fce10e7b283",
   "metadata": {},
   "outputs": [
    {
     "ename": "ModuleNotFoundError",
     "evalue": "No module named 'rubrix'",
     "output_type": "error",
     "traceback": [
      "\u001b[1;31m---------------------------------------------------------------------------\u001b[0m",
      "\u001b[1;31mModuleNotFoundError\u001b[0m                       Traceback (most recent call last)",
      "\u001b[1;32m~\\AppData\\Local\\Temp/ipykernel_27188/3852113965.py\u001b[0m in \u001b[0;36m<module>\u001b[1;34m\u001b[0m\n\u001b[1;32m----> 1\u001b[1;33m \u001b[1;32mimport\u001b[0m \u001b[0mrubrix\u001b[0m \u001b[1;32mas\u001b[0m \u001b[0mrb\u001b[0m\u001b[1;33m\u001b[0m\u001b[1;33m\u001b[0m\u001b[0m\n\u001b[0m",
      "\u001b[1;31mModuleNotFoundError\u001b[0m: No module named 'rubrix'"
     ]
    }
   ],
   "source": [
    "import rubrix as rb"
   ]
  },
  {
   "cell_type": "code",
   "execution_count": 8,
   "id": "dbab3fe7-8fcf-4afa-8394-1b1bbd0b10cb",
   "metadata": {},
   "outputs": [
    {
     "name": "stderr",
     "output_type": "stream",
     "text": [
      "C:\\Users\\arkan\\anaconda3\\envs\\Skripshit\\lib\\site-packages\\tqdm\\auto.py:22: TqdmWarning: IProgress not found. Please update jupyter and ipywidgets. See https://ipywidgets.readthedocs.io/en/stable/user_install.html\n",
      "  from .autonotebook import tqdm as notebook_tqdm\n",
      "100%|█████████████████████████████████████████████████████████████████████████████| 6049/6049 [00:40<00:00, 149.35it/s]"
     ]
    },
    {
     "name": "stdout",
     "output_type": "stream",
     "text": [
      "6049 records logged to http://localhost:6900/datasets/rubrix/ws_nd_codelablled\n"
     ]
    },
    {
     "name": "stderr",
     "output_type": "stream",
     "text": [
      "\n"
     ]
    },
    {
     "data": {
      "text/plain": [
       "BulkResponse(dataset='ws_nd_codelablled', processed=6049, failed=0)"
      ]
     },
     "execution_count": 8,
     "metadata": {},
     "output_type": "execute_result"
    }
   ],
   "source": [
    "\n",
    "# build records from the train dataset\n",
    "records = [\n",
    "    rb.TextClassificationRecord(\n",
    "        text=row.text,\n",
    "        #metadata={\"id\": row.id} \n",
    "    )\n",
    "    for i,row in train_unlabelled_df.iterrows()\n",
    "]\n",
    "\n",
    "# build records from the test dataset with annotation\n",
    "labels = [\"NOT_ND\", \"ND\"]\n",
    "records += [\n",
    "    rb.TextClassificationRecord(\n",
    "        text=row.text,\n",
    "        annotation=labels[row.Label],\n",
    "        #metadata={\"id\": row.id}\n",
    "    )\n",
    "    for i,row in test_df.iterrows()\n",
    "]\n",
    "\n",
    "# log records to Rubrix\n",
    "rb.log(records, name=\"ws_nd_codelablled\")\n"
   ]
  },
  {
   "cell_type": "markdown",
   "id": "d2a8283f-e044-429a-97bc-1fda783c2518",
   "metadata": {},
   "source": [
    "## Label making"
   ]
  },
  {
   "cell_type": "code",
   "execution_count": 9,
   "id": "76ba8de9-4173-401c-812e-83348aea6b2f",
   "metadata": {},
   "outputs": [],
   "source": [
    "from rubrix.labeling.text_classification import Rule, WeakLabels"
   ]
  },
  {
   "cell_type": "code",
   "execution_count": 29,
   "id": "fff9f360-a488-4685-8dfb-5f0b098b2ecc",
   "metadata": {},
   "outputs": [],
   "source": [
    "def rule_1(record: rb.TextClassificationRecord):\n",
    "    for word in \"bmkg|wib|lok|mmi|dirasakan|laut|berada|magnitudo\".split(\"|\"):\n",
    "      if word in record.inputs[\"text\"]:\n",
    "        return \"ND\"\n",
    "      else:\n",
    "        return \"NOT_ND\"\n",
    "\n",
    "def rule_2(record: rb.TextClassificationRecord):\n",
    "    for word in \"untuk|ada|itu|saya|kita|bisa|ngga|gimana\".split(\"|\"):\n",
    "      if word in record.inputs[\"text\"]:\n",
    "        return \"NOT_ND\""
   ]
  },
  {
   "cell_type": "markdown",
   "id": "24d7b343-8ac5-4bf8-a52b-f7be29b3e7a7",
   "metadata": {},
   "source": [
    "## Label Eval"
   ]
  },
  {
   "cell_type": "code",
   "execution_count": 30,
   "id": "8ddcf624-02b2-4fd8-a604-6c9ef263a298",
   "metadata": {},
   "outputs": [
    {
     "name": "stderr",
     "output_type": "stream",
     "text": [
      "Preparing rules: 100%|███████████████████████████████████████████████████████████████████████████| 2/2 [00:00<?, ?it/s]\n",
      "Applying rules: 100%|██████████████████████████████████████████████████████████| 6049/6049 [00:00<00:00, 241719.34it/s]\n"
     ]
    },
    {
     "data": {
      "text/html": [
       "<div>\n",
       "<style scoped>\n",
       "    .dataframe tbody tr th:only-of-type {\n",
       "        vertical-align: middle;\n",
       "    }\n",
       "\n",
       "    .dataframe tbody tr th {\n",
       "        vertical-align: top;\n",
       "    }\n",
       "\n",
       "    .dataframe thead th {\n",
       "        text-align: right;\n",
       "    }\n",
       "</style>\n",
       "<table border=\"1\" class=\"dataframe\">\n",
       "  <thead>\n",
       "    <tr style=\"text-align: right;\">\n",
       "      <th></th>\n",
       "      <th>label</th>\n",
       "      <th>coverage</th>\n",
       "      <th>annotated_coverage</th>\n",
       "      <th>overlaps</th>\n",
       "      <th>conflicts</th>\n",
       "      <th>correct</th>\n",
       "      <th>incorrect</th>\n",
       "      <th>precision</th>\n",
       "    </tr>\n",
       "  </thead>\n",
       "  <tbody>\n",
       "    <tr>\n",
       "      <th>rule_1</th>\n",
       "      <td>{ND, NOT_ND}</td>\n",
       "      <td>1.000000</td>\n",
       "      <td>1.000000</td>\n",
       "      <td>0.632005</td>\n",
       "      <td>0.005621</td>\n",
       "      <td>878</td>\n",
       "      <td>937</td>\n",
       "      <td>0.483747</td>\n",
       "    </tr>\n",
       "    <tr>\n",
       "      <th>rule_2</th>\n",
       "      <td>{NOT_ND}</td>\n",
       "      <td>0.632005</td>\n",
       "      <td>0.627548</td>\n",
       "      <td>0.632005</td>\n",
       "      <td>0.005621</td>\n",
       "      <td>543</td>\n",
       "      <td>596</td>\n",
       "      <td>0.476734</td>\n",
       "    </tr>\n",
       "    <tr>\n",
       "      <th>total</th>\n",
       "      <td>{ND, NOT_ND}</td>\n",
       "      <td>1.000000</td>\n",
       "      <td>1.000000</td>\n",
       "      <td>0.632005</td>\n",
       "      <td>0.005621</td>\n",
       "      <td>1421</td>\n",
       "      <td>1533</td>\n",
       "      <td>0.481043</td>\n",
       "    </tr>\n",
       "  </tbody>\n",
       "</table>\n",
       "</div>"
      ],
      "text/plain": [
       "               label  coverage  annotated_coverage  overlaps  conflicts  \\\n",
       "rule_1  {ND, NOT_ND}  1.000000            1.000000  0.632005   0.005621   \n",
       "rule_2      {NOT_ND}  0.632005            0.627548  0.632005   0.005621   \n",
       "total   {ND, NOT_ND}  1.000000            1.000000  0.632005   0.005621   \n",
       "\n",
       "        correct  incorrect  precision  \n",
       "rule_1      878        937   0.483747  \n",
       "rule_2      543        596   0.476734  \n",
       "total      1421       1533   0.481043  "
      ]
     },
     "execution_count": 30,
     "metadata": {},
     "output_type": "execute_result"
    }
   ],
   "source": [
    "from rubrix.labeling.text_classification import load_rules\n",
    "\n",
    "rules = [rule_1, rule_2]\n",
    "rules += load_rules(dataset=\"ws_nd_codelablled\")\n",
    "\n",
    "weak_label_code = WeakLabels(\n",
    "    rules=rules,\n",
    "    dataset=\"ws_nd_codelablled\"\n",
    ")\n",
    "\n",
    "weak_label_code.summary()"
   ]
  },
  {
   "cell_type": "code",
   "execution_count": 31,
   "id": "433e4692-c3e6-4ea8-b14a-294feaad7cc4",
   "metadata": {},
   "outputs": [],
   "source": [
    "from rubrix.labeling.text_classification import MajorityVoter\n",
    "\n",
    "# instantiate the majority vote label model by simply providing the weak labels object\n",
    "majority_model = MajorityVoter(weak_label_code)"
   ]
  },
  {
   "cell_type": "code",
   "execution_count": 32,
   "id": "2dc33a34-2f58-4bd0-9585-ac3bf03eebc0",
   "metadata": {},
   "outputs": [
    {
     "name": "stdout",
     "output_type": "stream",
     "text": [
      "              precision    recall  f1-score   support\n",
      "\n",
      "          ND       0.00      0.00      0.00       926\n",
      "      NOT_ND       0.49      0.99      0.65       882\n",
      "\n",
      "    accuracy                           0.49      1808\n",
      "   macro avg       0.24      0.50      0.33      1808\n",
      "weighted avg       0.24      0.49      0.32      1808\n",
      "\n"
     ]
    }
   ],
   "source": [
    "# check its performance\n",
    "print(majority_model.score(output_str=True))"
   ]
  },
  {
   "cell_type": "code",
   "execution_count": 26,
   "id": "955c3579-765e-461b-b225-8a69a7265705",
   "metadata": {},
   "outputs": [],
   "source": [
    "records = majority_model.predict()\n",
    "label2int = {'NOT_ND': 0, 'ND': 1}"
   ]
  },
  {
   "cell_type": "code",
   "execution_count": 27,
   "id": "8af8cff8-3ea3-4a85-8638-6f6022721997",
   "metadata": {},
   "outputs": [],
   "source": [
    "training_data = pd.DataFrame(\n",
    "    [\n",
    "        {\"text\": rec.text, \"label\": label2int[rec.prediction[0][0]]}\n",
    "        for rec in records\n",
    "    ]\n",
    ")"
   ]
  },
  {
   "cell_type": "code",
   "execution_count": 34,
   "id": "1f0ddb7a-58e5-4206-97f5-6ae65726aef5",
   "metadata": {},
   "outputs": [
    {
     "data": {
      "text/html": [
       "<div>\n",
       "<style scoped>\n",
       "    .dataframe tbody tr th:only-of-type {\n",
       "        vertical-align: middle;\n",
       "    }\n",
       "\n",
       "    .dataframe tbody tr th {\n",
       "        vertical-align: top;\n",
       "    }\n",
       "\n",
       "    .dataframe thead th {\n",
       "        text-align: right;\n",
       "    }\n",
       "</style>\n",
       "<table border=\"1\" class=\"dataframe\">\n",
       "  <thead>\n",
       "    <tr style=\"text-align: right;\">\n",
       "      <th></th>\n",
       "      <th>text</th>\n",
       "      <th>label</th>\n",
       "    </tr>\n",
       "  </thead>\n",
       "  <tbody>\n",
       "    <tr>\n",
       "      <th>0</th>\n",
       "      <td>Gempa Dirasakan Magnitudo: 5.1, Kedalaman: 36...</td>\n",
       "      <td>0</td>\n",
       "    </tr>\n",
       "    <tr>\n",
       "      <th>1</th>\n",
       "      <td>Gempa Magnitudo: 5.1, Kedalaman: 10 km, 25 Me...</td>\n",
       "      <td>0</td>\n",
       "    </tr>\n",
       "    <tr>\n",
       "      <th>2</th>\n",
       "      <td>saya juga meminta agar ketimpangan kapasitas t...</td>\n",
       "      <td>0</td>\n",
       "    </tr>\n",
       "    <tr>\n",
       "      <th>3</th>\n",
       "      <td>coba lu bayangin kiamat 2012 itu typo jadi 202...</td>\n",
       "      <td>0</td>\n",
       "    </tr>\n",
       "    <tr>\n",
       "      <th>4</th>\n",
       "      <td>kan bumi disitu kacaunya sama bencana alam jug...</td>\n",
       "      <td>0</td>\n",
       "    </tr>\n",
       "    <tr>\n",
       "      <th>...</th>\n",
       "      <td>...</td>\n",
       "      <td>...</td>\n",
       "    </tr>\n",
       "    <tr>\n",
       "      <th>4202</th>\n",
       "      <td>soal pelarangan fpi sosiolog pemerintah perlu ...</td>\n",
       "      <td>0</td>\n",
       "    </tr>\n",
       "    <tr>\n",
       "      <th>4203</th>\n",
       "      <td>jangan kau tutup indahmu dengan lahar panasmu ...</td>\n",
       "      <td>0</td>\n",
       "    </tr>\n",
       "    <tr>\n",
       "      <th>4204</th>\n",
       "      <td>Tiga kecamatan di wilayah Sukabumi terdampak b...</td>\n",
       "      <td>0</td>\n",
       "    </tr>\n",
       "    <tr>\n",
       "      <th>4205</th>\n",
       "      <td>kmhdi galang bantuan untuk korban banjir dan g...</td>\n",
       "      <td>0</td>\n",
       "    </tr>\n",
       "    <tr>\n",
       "      <th>4206</th>\n",
       "      <td>bpom klaim keamanan vaksin sinovac laporan khusus</td>\n",
       "      <td>0</td>\n",
       "    </tr>\n",
       "  </tbody>\n",
       "</table>\n",
       "<p>4207 rows × 2 columns</p>\n",
       "</div>"
      ],
      "text/plain": [
       "                                                   text  label\n",
       "0      Gempa Dirasakan Magnitudo: 5.1, Kedalaman: 36...      0\n",
       "1      Gempa Magnitudo: 5.1, Kedalaman: 10 km, 25 Me...      0\n",
       "2     saya juga meminta agar ketimpangan kapasitas t...      0\n",
       "3     coba lu bayangin kiamat 2012 itu typo jadi 202...      0\n",
       "4     kan bumi disitu kacaunya sama bencana alam jug...      0\n",
       "...                                                 ...    ...\n",
       "4202  soal pelarangan fpi sosiolog pemerintah perlu ...      0\n",
       "4203  jangan kau tutup indahmu dengan lahar panasmu ...      0\n",
       "4204  Tiga kecamatan di wilayah Sukabumi terdampak b...      0\n",
       "4205  kmhdi galang bantuan untuk korban banjir dan g...      0\n",
       "4206  bpom klaim keamanan vaksin sinovac laporan khusus      0\n",
       "\n",
       "[4207 rows x 2 columns]"
      ]
     },
     "execution_count": 34,
     "metadata": {},
     "output_type": "execute_result"
    }
   ],
   "source": [
    "training_data"
   ]
  },
  {
   "cell_type": "code",
   "execution_count": 35,
   "id": "07cd5129-3a91-4784-94aa-6c0f989e61f0",
   "metadata": {},
   "outputs": [
    {
     "name": "stdout",
     "output_type": "stream",
     "text": [
      "<class 'pandas.core.frame.DataFrame'>\n",
      "RangeIndex: 4207 entries, 0 to 4206\n",
      "Data columns (total 2 columns):\n",
      " #   Column  Non-Null Count  Dtype \n",
      "---  ------  --------------  ----- \n",
      " 0   text    4207 non-null   object\n",
      " 1   label   4207 non-null   int64 \n",
      "dtypes: int64(1), object(1)\n",
      "memory usage: 65.9+ KB\n"
     ]
    }
   ],
   "source": [
    "training_data.info()"
   ]
  },
  {
   "cell_type": "code",
   "execution_count": 36,
   "id": "18e0bd20-2c62-4ff5-a5b7-a08bc92c38a5",
   "metadata": {},
   "outputs": [
    {
     "data": {
      "text/html": [
       "<div>\n",
       "<style scoped>\n",
       "    .dataframe tbody tr th:only-of-type {\n",
       "        vertical-align: middle;\n",
       "    }\n",
       "\n",
       "    .dataframe tbody tr th {\n",
       "        vertical-align: top;\n",
       "    }\n",
       "\n",
       "    .dataframe thead th {\n",
       "        text-align: right;\n",
       "    }\n",
       "</style>\n",
       "<table border=\"1\" class=\"dataframe\">\n",
       "  <thead>\n",
       "    <tr style=\"text-align: right;\">\n",
       "      <th></th>\n",
       "      <th>text</th>\n",
       "      <th>label</th>\n",
       "    </tr>\n",
       "  </thead>\n",
       "  <tbody>\n",
       "    <tr>\n",
       "      <th>84</th>\n",
       "      <td>soal dentuman ini bagiannya pvmbg jadi bukan b...</td>\n",
       "      <td>1</td>\n",
       "    </tr>\n",
       "    <tr>\n",
       "      <th>226</th>\n",
       "      <td>jadi bmkg ga boleh posting gempa vulkanik</td>\n",
       "      <td>1</td>\n",
       "    </tr>\n",
       "    <tr>\n",
       "      <th>260</th>\n",
       "      <td>dentuman yang terdengar di jabodetabek tengah ...</td>\n",
       "      <td>1</td>\n",
       "    </tr>\n",
       "    <tr>\n",
       "      <th>329</th>\n",
       "      <td>ini kalau disusun kalimat dentuman dajjal krak...</td>\n",
       "      <td>1</td>\n",
       "    </tr>\n",
       "    <tr>\n",
       "      <th>685</th>\n",
       "      <td>maap y bmkg tu utuk gempa tsunami ini gunung y...</td>\n",
       "      <td>1</td>\n",
       "    </tr>\n",
       "    <tr>\n",
       "      <th>727</th>\n",
       "      <td>iyaa beb gempa lumayan katanya bmkg jg udh upd...</td>\n",
       "      <td>1</td>\n",
       "    </tr>\n",
       "    <tr>\n",
       "      <th>1228</th>\n",
       "      <td>dan aplikasi bmkg g menampakkan sesuatu apapun...</td>\n",
       "      <td>1</td>\n",
       "    </tr>\n",
       "    <tr>\n",
       "      <th>1490</th>\n",
       "      <td>yaallah pagi2 trending aq serem amat si krakat...</td>\n",
       "      <td>1</td>\n",
       "    </tr>\n",
       "    <tr>\n",
       "      <th>1921</th>\n",
       "      <td>btw kok bmkg ga ngomong apa dah cuma gempa yg ...</td>\n",
       "      <td>1</td>\n",
       "    </tr>\n",
       "    <tr>\n",
       "      <th>2239</th>\n",
       "      <td>indigo kiamat dajjal ya allah bunyi kedengeran...</td>\n",
       "      <td>1</td>\n",
       "    </tr>\n",
       "    <tr>\n",
       "      <th>2845</th>\n",
       "      <td>cities skylines indonesia jakarta2050 live cct...</td>\n",
       "      <td>1</td>\n",
       "    </tr>\n",
       "    <tr>\n",
       "      <th>2853</th>\n",
       "      <td>krakatau gempa dentuman bmkg</td>\n",
       "      <td>1</td>\n",
       "    </tr>\n",
       "    <tr>\n",
       "      <th>3006</th>\n",
       "      <td>the tsunami jakarta 2050 trailer cities skylin...</td>\n",
       "      <td>1</td>\n",
       "    </tr>\n",
       "    <tr>\n",
       "      <th>3308</th>\n",
       "      <td>lekas membaik bumi pertiwi puncak tertinggi ma...</td>\n",
       "      <td>1</td>\n",
       "    </tr>\n",
       "    <tr>\n",
       "      <th>3504</th>\n",
       "      <td>klo kabupaten malang kerasa gempa skala kecil ...</td>\n",
       "      <td>1</td>\n",
       "    </tr>\n",
       "    <tr>\n",
       "      <th>3591</th>\n",
       "      <td>oke oke jadi fase 2020 gini ya isu ww3 gt coro...</td>\n",
       "      <td>1</td>\n",
       "    </tr>\n",
       "  </tbody>\n",
       "</table>\n",
       "</div>"
      ],
      "text/plain": [
       "                                                   text  label\n",
       "84    soal dentuman ini bagiannya pvmbg jadi bukan b...      1\n",
       "226           jadi bmkg ga boleh posting gempa vulkanik      1\n",
       "260   dentuman yang terdengar di jabodetabek tengah ...      1\n",
       "329   ini kalau disusun kalimat dentuman dajjal krak...      1\n",
       "685   maap y bmkg tu utuk gempa tsunami ini gunung y...      1\n",
       "727   iyaa beb gempa lumayan katanya bmkg jg udh upd...      1\n",
       "1228  dan aplikasi bmkg g menampakkan sesuatu apapun...      1\n",
       "1490  yaallah pagi2 trending aq serem amat si krakat...      1\n",
       "1921  btw kok bmkg ga ngomong apa dah cuma gempa yg ...      1\n",
       "2239  indigo kiamat dajjal ya allah bunyi kedengeran...      1\n",
       "2845  cities skylines indonesia jakarta2050 live cct...      1\n",
       "2853                       krakatau gempa dentuman bmkg      1\n",
       "3006  the tsunami jakarta 2050 trailer cities skylin...      1\n",
       "3308  lekas membaik bumi pertiwi puncak tertinggi ma...      1\n",
       "3504  klo kabupaten malang kerasa gempa skala kecil ...      1\n",
       "3591  oke oke jadi fase 2020 gini ya isu ww3 gt coro...      1"
      ]
     },
     "execution_count": 36,
     "metadata": {},
     "output_type": "execute_result"
    }
   ],
   "source": [
    "training_data.query('label == 1')"
   ]
  },
  {
   "cell_type": "code",
   "execution_count": 37,
   "id": "da703356-acdd-4b33-8cd3-08391112f2d2",
   "metadata": {},
   "outputs": [
    {
     "data": {
      "text/html": [
       "<div>\n",
       "<style scoped>\n",
       "    .dataframe tbody tr th:only-of-type {\n",
       "        vertical-align: middle;\n",
       "    }\n",
       "\n",
       "    .dataframe tbody tr th {\n",
       "        vertical-align: top;\n",
       "    }\n",
       "\n",
       "    .dataframe thead th {\n",
       "        text-align: right;\n",
       "    }\n",
       "</style>\n",
       "<table border=\"1\" class=\"dataframe\">\n",
       "  <thead>\n",
       "    <tr style=\"text-align: right;\">\n",
       "      <th></th>\n",
       "      <th>text</th>\n",
       "    </tr>\n",
       "    <tr>\n",
       "      <th>label</th>\n",
       "      <th></th>\n",
       "    </tr>\n",
       "  </thead>\n",
       "  <tbody>\n",
       "    <tr>\n",
       "      <th>0</th>\n",
       "      <td>4156</td>\n",
       "    </tr>\n",
       "    <tr>\n",
       "      <th>1</th>\n",
       "      <td>16</td>\n",
       "    </tr>\n",
       "  </tbody>\n",
       "</table>\n",
       "</div>"
      ],
      "text/plain": [
       "       text\n",
       "label      \n",
       "0      4156\n",
       "1        16"
      ]
     },
     "execution_count": 37,
     "metadata": {},
     "output_type": "execute_result"
    }
   ],
   "source": [
    "training_data.groupby('label').nunique()"
   ]
  },
  {
   "cell_type": "code",
   "execution_count": null,
   "id": "d02241cf-3763-41fa-9e65-df4fc38ba44f",
   "metadata": {},
   "outputs": [],
   "source": []
  }
 ],
 "metadata": {
  "kernelspec": {
   "display_name": "Python 3 (ipykernel)",
   "language": "python",
   "name": "python3"
  },
  "language_info": {
   "codemirror_mode": {
    "name": "ipython",
    "version": 3
   },
   "file_extension": ".py",
   "mimetype": "text/x-python",
   "name": "python",
   "nbconvert_exporter": "python",
   "pygments_lexer": "ipython3",
   "version": "3.9.7"
  }
 },
 "nbformat": 4,
 "nbformat_minor": 5
}

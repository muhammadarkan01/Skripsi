{
 "cells": [
  {
   "cell_type": "code",
   "execution_count": 1,
   "id": "66b122ca-56b6-4ee6-901d-cbf03e86105c",
   "metadata": {},
   "outputs": [],
   "source": [
    "from sklearn.model_selection import train_test_split\n",
    "import pandas as pd"
   ]
  },
  {
   "cell_type": "code",
   "execution_count": 3,
   "id": "4fb71ae2-014d-4b09-aa8c-5454efd2f02e",
   "metadata": {},
   "outputs": [
    {
     "data": {
      "text/html": [
       "<div>\n",
       "<style scoped>\n",
       "    .dataframe tbody tr th:only-of-type {\n",
       "        vertical-align: middle;\n",
       "    }\n",
       "\n",
       "    .dataframe tbody tr th {\n",
       "        vertical-align: top;\n",
       "    }\n",
       "\n",
       "    .dataframe thead th {\n",
       "        text-align: right;\n",
       "    }\n",
       "</style>\n",
       "<table border=\"1\" class=\"dataframe\">\n",
       "  <thead>\n",
       "    <tr style=\"text-align: right;\">\n",
       "      <th></th>\n",
       "      <th>id</th>\n",
       "      <th>text</th>\n",
       "      <th>label</th>\n",
       "    </tr>\n",
       "  </thead>\n",
       "  <tbody>\n",
       "    <tr>\n",
       "      <th>0</th>\n",
       "      <td>1405548223998042113</td>\n",
       "      <td>Gempa Dirasakan Magnitudo: 4.1, Kedalaman: 25...</td>\n",
       "      <td>1</td>\n",
       "    </tr>\n",
       "    <tr>\n",
       "      <th>1</th>\n",
       "      <td>1405548136332873732</td>\n",
       "      <td>Gempa Magnitudo:4.1, 17-Jun-21 22:07:03 WIB, ...</td>\n",
       "      <td>1</td>\n",
       "    </tr>\n",
       "    <tr>\n",
       "      <th>2</th>\n",
       "      <td>1405506446121263106</td>\n",
       "      <td>Gempa Dirasakan Magnitudo: 4.1, Kedalaman: 12...</td>\n",
       "      <td>1</td>\n",
       "    </tr>\n",
       "    <tr>\n",
       "      <th>3</th>\n",
       "      <td>1405506402009845763</td>\n",
       "      <td>Gempa Magnitudo:4.1, 17-Jun-21 19:22:00 WIB, ...</td>\n",
       "      <td>1</td>\n",
       "    </tr>\n",
       "    <tr>\n",
       "      <th>4</th>\n",
       "      <td>1405420376599846912</td>\n",
       "      <td>Gempa Dirasakan Magnitudo: 4.2, Kedalaman: 27...</td>\n",
       "      <td>1</td>\n",
       "    </tr>\n",
       "  </tbody>\n",
       "</table>\n",
       "</div>"
      ],
      "text/plain": [
       "                    id                                               text  \\\n",
       "0  1405548223998042113   Gempa Dirasakan Magnitudo: 4.1, Kedalaman: 25...   \n",
       "1  1405548136332873732   Gempa Magnitudo:4.1, 17-Jun-21 22:07:03 WIB, ...   \n",
       "2  1405506446121263106   Gempa Dirasakan Magnitudo: 4.1, Kedalaman: 12...   \n",
       "3  1405506402009845763   Gempa Magnitudo:4.1, 17-Jun-21 19:22:00 WIB, ...   \n",
       "4  1405420376599846912   Gempa Dirasakan Magnitudo: 4.2, Kedalaman: 27...   \n",
       "\n",
       "   label  \n",
       "0      1  \n",
       "1      1  \n",
       "2      1  \n",
       "3      1  \n",
       "4      1  "
      ]
     },
     "execution_count": 3,
     "metadata": {},
     "output_type": "execute_result"
    }
   ],
   "source": [
    "df = pd.read_csv('original_dataset.csv')\n",
    "df.head()"
   ]
  },
  {
   "cell_type": "markdown",
   "id": "1daacd6c-970e-4042-90d9-1c21bb8b64d3",
   "metadata": {},
   "source": [
    "Checking DataFrame coloum type "
   ]
  },
  {
   "cell_type": "code",
   "execution_count": null,
   "id": "d9c22549-839d-4073-845e-d912128450ec",
   "metadata": {},
   "outputs": [],
   "source": [
    "df.info()"
   ]
  },
  {
   "cell_type": "markdown",
   "id": "7c567d32-cdef-4d23-87d5-b26e1ec26f19",
   "metadata": {},
   "source": [
    "Spliting to train and test "
   ]
  },
  {
   "cell_type": "code",
   "execution_count": null,
   "id": "96d1c30d-11bf-485e-8da0-0a88413bfa05",
   "metadata": {
    "tags": []
   },
   "outputs": [],
   "source": [
    "train_df, test_df = train_test_split(df, test_size=0.3, random_state=25)"
   ]
  },
  {
   "cell_type": "markdown",
   "id": "b448315f-1b89-47ae-a0f9-1b536962b3b6",
   "metadata": {},
   "source": [
    "Read train data frame head "
   ]
  },
  {
   "cell_type": "code",
   "execution_count": null,
   "id": "e2d81497-a8e1-44fe-ac95-4db87aafdbcf",
   "metadata": {},
   "outputs": [],
   "source": [
    "train_df.head()\n"
   ]
  },
  {
   "cell_type": "markdown",
   "id": "d4fe26f9-faca-49ed-9bef-7cd9859c77ff",
   "metadata": {},
   "source": [
    "Read test data frame head "
   ]
  },
  {
   "cell_type": "code",
   "execution_count": null,
   "id": "05f2efd6-8039-4acd-b6de-1550a85589bd",
   "metadata": {},
   "outputs": [],
   "source": [
    "test_df.head()"
   ]
  },
  {
   "cell_type": "markdown",
   "id": "cf498b7b-25a7-4c6b-9820-7066acc8f53a",
   "metadata": {},
   "source": [
    "count train and test dataset "
   ]
  },
  {
   "cell_type": "code",
   "execution_count": null,
   "id": "2dc09582-2f40-44c8-b62b-1c2c1a6d0dde",
   "metadata": {},
   "outputs": [],
   "source": [
    "train_df.count()"
   ]
  },
  {
   "cell_type": "code",
   "execution_count": null,
   "id": "8985cd28-7abe-4c1b-9a6c-465e82b7620e",
   "metadata": {},
   "outputs": [],
   "source": [
    "test_df.count()"
   ]
  },
  {
   "cell_type": "markdown",
   "id": "f292bcd1-3ca1-417f-8c32-723576800f72",
   "metadata": {},
   "source": [
    "Export train and test dataframe"
   ]
  },
  {
   "cell_type": "code",
   "execution_count": null,
   "id": "1242f378-bf77-486a-b14c-2aeec7c03802",
   "metadata": {},
   "outputs": [],
   "source": [
    "train_df.to_csv('train.csv', index = False)\n",
    "test_df.to_csv('test.csv', index = False)"
   ]
  },
  {
   "cell_type": "markdown",
   "id": "65f0e934-327b-47ce-b878-69daf95bce9b",
   "metadata": {},
   "source": [
    "File train test sudah di folder luar"
   ]
  },
  {
   "cell_type": "code",
   "execution_count": null,
   "id": "b6876457-5da9-409a-b459-4e87567c162f",
   "metadata": {},
   "outputs": [],
   "source": []
  }
 ],
 "metadata": {
  "kernelspec": {
   "display_name": "Python 3 (ipykernel)",
   "language": "python",
   "name": "python3"
  },
  "language_info": {
   "codemirror_mode": {
    "name": "ipython",
    "version": 3
   },
   "file_extension": ".py",
   "mimetype": "text/x-python",
   "name": "python",
   "nbconvert_exporter": "python",
   "pygments_lexer": "ipython3",
   "version": "3.9.19"
  }
 },
 "nbformat": 4,
 "nbformat_minor": 5
}

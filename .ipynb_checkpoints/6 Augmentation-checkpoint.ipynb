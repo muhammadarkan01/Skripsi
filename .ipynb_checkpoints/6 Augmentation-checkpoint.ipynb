{
 "cells": [
  {
   "cell_type": "code",
   "execution_count": 1,
   "id": "03dd47ae-b713-4c2c-a7fd-aff72b7235c6",
   "metadata": {},
   "outputs": [],
   "source": [
    "import pandas as pd"
   ]
  },
  {
   "cell_type": "code",
   "execution_count": 2,
   "id": "7186758c-5577-4774-a128-3ace958f83f1",
   "metadata": {},
   "outputs": [],
   "source": [
    "# Load Dataset A and Dataset B\n",
    "df_a = pd.read_csv('autolabelled_dataset_iv.csv')\n",
    "df_b = pd.read_csv('train.csv')\n",
    "\n",
    "# Merge the datasets based on 'text' column\n",
    "merged_data = pd.merge(df_a, df_b[['text', 'label']], on='text', how='outer', suffixes=('_A', '_B'))\n",
    "merged_data.to_csv('combined_dataset.csv', index=False)"
   ]
  },
  {
   "cell_type": "code",
   "execution_count": 3,
   "id": "5ab96629-bc3f-4fac-a0b6-cf0f4800d2e2",
   "metadata": {},
   "outputs": [],
   "source": [
    "# Update the 'label' column in Dataset A with values from Dataset B\n",
    "merged_data['label_A'] = merged_data['label_B'].fillna(merged_data['label_A'])\n",
    "merged_data.to_csv('combined_dataset.csv', index=False)"
   ]
  },
  {
   "cell_type": "code",
   "execution_count": 4,
   "id": "224015a5-44cb-4eae-b873-4f7fd1439d75",
   "metadata": {},
   "outputs": [],
   "source": [
    "# Remove the 'label_B' column\n",
    "merged_data = merged_data.drop('label_B', axis=1)\n",
    "merged_data.to_csv('combined_dataset.csv', index=False)"
   ]
  },
  {
   "cell_type": "code",
   "execution_count": 5,
   "id": "0daae03a-1514-485b-8a54-80591b84f2f5",
   "metadata": {},
   "outputs": [
    {
     "data": {
      "text/html": [
       "<div>\n",
       "<style scoped>\n",
       "    .dataframe tbody tr th:only-of-type {\n",
       "        vertical-align: middle;\n",
       "    }\n",
       "\n",
       "    .dataframe tbody tr th {\n",
       "        vertical-align: top;\n",
       "    }\n",
       "\n",
       "    .dataframe thead th {\n",
       "        text-align: right;\n",
       "    }\n",
       "</style>\n",
       "<table border=\"1\" class=\"dataframe\">\n",
       "  <thead>\n",
       "    <tr style=\"text-align: right;\">\n",
       "      <th></th>\n",
       "      <th>text</th>\n",
       "      <th>label</th>\n",
       "    </tr>\n",
       "  </thead>\n",
       "  <tbody>\n",
       "    <tr>\n",
       "      <th>0</th>\n",
       "      <td>Semalam aku mimpi aneh 😭 serem banget aku inge...</td>\n",
       "      <td>0.0</td>\n",
       "    </tr>\n",
       "    <tr>\n",
       "      <th>1</th>\n",
       "      <td>Ml pending....\\nEQ &amp;amp; Tsunami Drill pending...</td>\n",
       "      <td>1.0</td>\n",
       "    </tr>\n",
       "    <tr>\n",
       "      <th>2</th>\n",
       "      <td>Seumur-umur gue ngerasain gempa itu dua kali, ...</td>\n",
       "      <td>0.0</td>\n",
       "    </tr>\n",
       "    <tr>\n",
       "      <th>3</th>\n",
       "      <td>Tak sanggup nak tengok video gempa bumi tu</td>\n",
       "      <td>1.0</td>\n",
       "    </tr>\n",
       "    <tr>\n",
       "      <th>4</th>\n",
       "      <td>\"RANDY BAGUS HARI SASONGKO\" Segera dievakuasi ...</td>\n",
       "      <td>0.0</td>\n",
       "    </tr>\n",
       "    <tr>\n",
       "      <th>...</th>\n",
       "      <td>...</td>\n",
       "      <td>...</td>\n",
       "    </tr>\n",
       "    <tr>\n",
       "      <th>30440</th>\n",
       "      <td>Gempa Mag:2.3, 04-Mei-21 00:57:53 WIB, Lok:3....</td>\n",
       "      <td>1.0</td>\n",
       "    </tr>\n",
       "    <tr>\n",
       "      <th>30441</th>\n",
       "      <td>pohon itu adalah penyeimbang alam jika pohon i...</td>\n",
       "      <td>0.0</td>\n",
       "    </tr>\n",
       "    <tr>\n",
       "      <th>30442</th>\n",
       "      <td>10. Tanggal 26 Januari 2021 pukul 23:14 WIB, a...</td>\n",
       "      <td>1.0</td>\n",
       "    </tr>\n",
       "    <tr>\n",
       "      <th>30443</th>\n",
       "      <td>Gempa Mag:4.3, 27-Apr-21 17:28:58 WIB, Lok:1....</td>\n",
       "      <td>1.0</td>\n",
       "    </tr>\n",
       "    <tr>\n",
       "      <th>30444</th>\n",
       "      <td>mgkn dia tau gempa akan datang kayak ikan2 yg ...</td>\n",
       "      <td>0.0</td>\n",
       "    </tr>\n",
       "  </tbody>\n",
       "</table>\n",
       "<p>30445 rows × 2 columns</p>\n",
       "</div>"
      ],
      "text/plain": [
       "                                                    text  label\n",
       "0      Semalam aku mimpi aneh 😭 serem banget aku inge...    0.0\n",
       "1      Ml pending....\\nEQ &amp; Tsunami Drill pending...    1.0\n",
       "2      Seumur-umur gue ngerasain gempa itu dua kali, ...    0.0\n",
       "3             Tak sanggup nak tengok video gempa bumi tu    1.0\n",
       "4      \"RANDY BAGUS HARI SASONGKO\" Segera dievakuasi ...    0.0\n",
       "...                                                  ...    ...\n",
       "30440   Gempa Mag:2.3, 04-Mei-21 00:57:53 WIB, Lok:3....    1.0\n",
       "30441  pohon itu adalah penyeimbang alam jika pohon i...    0.0\n",
       "30442  10. Tanggal 26 Januari 2021 pukul 23:14 WIB, a...    1.0\n",
       "30443   Gempa Mag:4.3, 27-Apr-21 17:28:58 WIB, Lok:1....    1.0\n",
       "30444  mgkn dia tau gempa akan datang kayak ikan2 yg ...    0.0\n",
       "\n",
       "[30445 rows x 2 columns]"
      ]
     },
     "execution_count": 5,
     "metadata": {},
     "output_type": "execute_result"
    }
   ],
   "source": [
    "merged_data = merged_data.rename(columns={'label_A': 'label'})\n",
    "merged_data"
   ]
  },
  {
   "cell_type": "code",
   "execution_count": 7,
   "id": "f75b0182-e002-402f-8618-ec96a4e8c558",
   "metadata": {},
   "outputs": [
    {
     "name": "stdout",
     "output_type": "stream",
     "text": [
      "30445\n"
     ]
    },
    {
     "data": {
      "text/html": [
       "<div>\n",
       "<style scoped>\n",
       "    .dataframe tbody tr th:only-of-type {\n",
       "        vertical-align: middle;\n",
       "    }\n",
       "\n",
       "    .dataframe tbody tr th {\n",
       "        vertical-align: top;\n",
       "    }\n",
       "\n",
       "    .dataframe thead th {\n",
       "        text-align: right;\n",
       "    }\n",
       "</style>\n",
       "<table border=\"1\" class=\"dataframe\">\n",
       "  <thead>\n",
       "    <tr style=\"text-align: right;\">\n",
       "      <th></th>\n",
       "      <th>text</th>\n",
       "      <th>label</th>\n",
       "    </tr>\n",
       "  </thead>\n",
       "  <tbody>\n",
       "    <tr>\n",
       "      <th>0</th>\n",
       "      <td>Semalam aku mimpi aneh 😭 serem banget aku inget aku lagi jalan2 sama gatau laki² siapa di pantai aku ngerasa aneh kok airnya surut gawajar kaya mau sunami terus aku sama dia bomad kita mau jalan² gitu dipinggir jalan raya terus aku lihat puting beliung jumbo kaya tornado gitu ++</td>\n",
       "      <td>0.0</td>\n",
       "    </tr>\n",
       "    <tr>\n",
       "      <th>1</th>\n",
       "      <td>Ml pending....\\nEQ &amp;amp; Tsunami Drill pending....\\nTB docu pending....\\n😵‍💫</td>\n",
       "      <td>1.0</td>\n",
       "    </tr>\n",
       "    <tr>\n",
       "      <th>2</th>\n",
       "      <td>Seumur-umur gue ngerasain gempa itu dua kali, pas krakatau atau tsunami selat sunda itu sama pas 2021 atau awal 2022 kayaknya.</td>\n",
       "      <td>0.0</td>\n",
       "    </tr>\n",
       "    <tr>\n",
       "      <th>3</th>\n",
       "      <td>Tak sanggup nak tengok video gempa bumi tu</td>\n",
       "      <td>1.0</td>\n",
       "    </tr>\n",
       "    <tr>\n",
       "      <th>4</th>\n",
       "      <td>\"RANDY BAGUS HARI SASONGKO\" Segera dievakuasi ditakutkan terkena erupsi gunung Semeru kan kasian, mending evakuasi pindahkan ke lapas tahanan penjarakan tuh anak 2K! 🤸</td>\n",
       "      <td>0.0</td>\n",
       "    </tr>\n",
       "    <tr>\n",
       "      <th>5</th>\n",
       "      <td>Iya cangkirnya kosong, tapi aku kasih tutup biar gak ada yg masuk. Kemarin bikin banjir soalnya</td>\n",
       "      <td>0.0</td>\n",
       "    </tr>\n",
       "    <tr>\n",
       "      <th>6</th>\n",
       "      <td>Lindungi keluarga hamba yaAllah.\\nRasanya udah kyk puting beliung aja tadi 😢</td>\n",
       "      <td>0.0</td>\n",
       "    </tr>\n",
       "    <tr>\n",
       "      <th>7</th>\n",
       "      <td>Di fake love extended ver. ada part seokjin lindungin hourglass dari puting beliung, di film out hourglass ada juga...</td>\n",
       "      <td>0.0</td>\n",
       "    </tr>\n",
       "    <tr>\n",
       "      <th>8</th>\n",
       "      <td>eee tkleh lah kalau org ckp dia proud of me 😭😭 aku auto banjir dok 🤣😭</td>\n",
       "      <td>0.0</td>\n",
       "    </tr>\n",
       "    <tr>\n",
       "      <th>9</th>\n",
       "      <td>Gempa kah kids?</td>\n",
       "      <td>1.0</td>\n",
       "    </tr>\n",
       "  </tbody>\n",
       "</table>\n",
       "</div>"
      ],
      "text/plain": [
       "                                                                                                                                                                                                                                                                                      text  label\n",
       "0  Semalam aku mimpi aneh 😭 serem banget aku inget aku lagi jalan2 sama gatau laki² siapa di pantai aku ngerasa aneh kok airnya surut gawajar kaya mau sunami terus aku sama dia bomad kita mau jalan² gitu dipinggir jalan raya terus aku lihat puting beliung jumbo kaya tornado gitu ++    0.0\n",
       "1                                                                                                                                                                                                             Ml pending....\\nEQ &amp; Tsunami Drill pending....\\nTB docu pending....\\n😵‍💫    1.0\n",
       "2                                                                                                                                                           Seumur-umur gue ngerasain gempa itu dua kali, pas krakatau atau tsunami selat sunda itu sama pas 2021 atau awal 2022 kayaknya.    0.0\n",
       "3                                                                                                                                                                                                                                               Tak sanggup nak tengok video gempa bumi tu    1.0\n",
       "4                                                                                                                  \"RANDY BAGUS HARI SASONGKO\" Segera dievakuasi ditakutkan terkena erupsi gunung Semeru kan kasian, mending evakuasi pindahkan ke lapas tahanan penjarakan tuh anak 2K! 🤸    0.0\n",
       "5                                                                                                                                                                                          Iya cangkirnya kosong, tapi aku kasih tutup biar gak ada yg masuk. Kemarin bikin banjir soalnya    0.0\n",
       "6                                                                                                                                                                                                             Lindungi keluarga hamba yaAllah.\\nRasanya udah kyk puting beliung aja tadi 😢    0.0\n",
       "7                                                                                                                                                                   Di fake love extended ver. ada part seokjin lindungin hourglass dari puting beliung, di film out hourglass ada juga...    0.0\n",
       "8                                                                                                                                                                                                                    eee tkleh lah kalau org ckp dia proud of me 😭😭 aku auto banjir dok 🤣😭    0.0\n",
       "9                                                                                                                                                                                                                                                                          Gempa kah kids?    1.0"
      ]
     },
     "execution_count": 7,
     "metadata": {},
     "output_type": "execute_result"
    }
   ],
   "source": [
    "pd.set_option('display.expand_frame_repr', False)\n",
    "pd.set_option('display.max_colwidth', None)\n",
    "print(len(merged_data))\n",
    "merged_data.head(10)"
   ]
  },
  {
   "cell_type": "code",
   "execution_count": 6,
   "id": "acbcb30c-3dbf-4a35-93ef-92bc7afbcbe3",
   "metadata": {},
   "outputs": [
    {
     "name": "stdout",
     "output_type": "stream",
     "text": [
      "<class 'pandas.core.frame.DataFrame'>\n",
      "Int64Index: 30445 entries, 0 to 30444\n",
      "Data columns (total 2 columns):\n",
      " #   Column  Non-Null Count  Dtype  \n",
      "---  ------  --------------  -----  \n",
      " 0   text    30445 non-null  object \n",
      " 1   label   30445 non-null  float64\n",
      "dtypes: float64(1), object(1)\n",
      "memory usage: 713.6+ KB\n"
     ]
    }
   ],
   "source": [
    "merged_data.info()"
   ]
  },
  {
   "cell_type": "code",
   "execution_count": 7,
   "id": "3e51d601-8677-4848-90a8-0ee14e99f580",
   "metadata": {},
   "outputs": [
    {
     "name": "stdout",
     "output_type": "stream",
     "text": [
      "<class 'pandas.core.frame.DataFrame'>\n",
      "Int64Index: 30445 entries, 0 to 30444\n",
      "Data columns (total 2 columns):\n",
      " #   Column  Non-Null Count  Dtype \n",
      "---  ------  --------------  ----- \n",
      " 0   text    30445 non-null  object\n",
      " 1   label   30445 non-null  int32 \n",
      "dtypes: int32(1), object(1)\n",
      "memory usage: 594.6+ KB\n"
     ]
    }
   ],
   "source": [
    "merged_data['label'] = merged_data['label'].astype(int)\n",
    "merged_data.info()"
   ]
  },
  {
   "cell_type": "code",
   "execution_count": 10,
   "id": "c5cf6ef4-cbab-40c4-85ef-89798af772ff",
   "metadata": {},
   "outputs": [],
   "source": [
    "# Check for duplicates\n",
    "duplicates = merged_data['text'].duplicated()\n",
    "merged_data[duplicates].to_csv('combined_dataset.csv', index=False)"
   ]
  },
  {
   "cell_type": "code",
   "execution_count": 11,
   "id": "fda12057-c596-4e60-b36e-76b0596bf97f",
   "metadata": {},
   "outputs": [
    {
     "data": {
      "text/html": [
       "<div>\n",
       "<style scoped>\n",
       "    .dataframe tbody tr th:only-of-type {\n",
       "        vertical-align: middle;\n",
       "    }\n",
       "\n",
       "    .dataframe tbody tr th {\n",
       "        vertical-align: top;\n",
       "    }\n",
       "\n",
       "    .dataframe thead th {\n",
       "        text-align: right;\n",
       "    }\n",
       "</style>\n",
       "<table border=\"1\" class=\"dataframe\">\n",
       "  <thead>\n",
       "    <tr style=\"text-align: right;\">\n",
       "      <th></th>\n",
       "      <th>text</th>\n",
       "      <th>label</th>\n",
       "    </tr>\n",
       "  </thead>\n",
       "  <tbody>\n",
       "    <tr>\n",
       "      <th>0</th>\n",
       "      <td>Semalam aku mimpi aneh 😭 serem banget aku inge...</td>\n",
       "      <td>0</td>\n",
       "    </tr>\n",
       "    <tr>\n",
       "      <th>1</th>\n",
       "      <td>Ml pending....\\nEQ &amp;amp; Tsunami Drill pending...</td>\n",
       "      <td>1</td>\n",
       "    </tr>\n",
       "    <tr>\n",
       "      <th>2</th>\n",
       "      <td>Seumur-umur gue ngerasain gempa itu dua kali, ...</td>\n",
       "      <td>0</td>\n",
       "    </tr>\n",
       "    <tr>\n",
       "      <th>3</th>\n",
       "      <td>Tak sanggup nak tengok video gempa bumi tu</td>\n",
       "      <td>1</td>\n",
       "    </tr>\n",
       "    <tr>\n",
       "      <th>4</th>\n",
       "      <td>\"RANDY BAGUS HARI SASONGKO\" Segera dievakuasi ...</td>\n",
       "      <td>0</td>\n",
       "    </tr>\n",
       "    <tr>\n",
       "      <th>...</th>\n",
       "      <td>...</td>\n",
       "      <td>...</td>\n",
       "    </tr>\n",
       "    <tr>\n",
       "      <th>30440</th>\n",
       "      <td>Gempa Mag:2.3, 04-Mei-21 00:57:53 WIB, Lok:3....</td>\n",
       "      <td>1</td>\n",
       "    </tr>\n",
       "    <tr>\n",
       "      <th>30441</th>\n",
       "      <td>pohon itu adalah penyeimbang alam jika pohon i...</td>\n",
       "      <td>0</td>\n",
       "    </tr>\n",
       "    <tr>\n",
       "      <th>30442</th>\n",
       "      <td>10. Tanggal 26 Januari 2021 pukul 23:14 WIB, a...</td>\n",
       "      <td>1</td>\n",
       "    </tr>\n",
       "    <tr>\n",
       "      <th>30443</th>\n",
       "      <td>Gempa Mag:4.3, 27-Apr-21 17:28:58 WIB, Lok:1....</td>\n",
       "      <td>1</td>\n",
       "    </tr>\n",
       "    <tr>\n",
       "      <th>30444</th>\n",
       "      <td>mgkn dia tau gempa akan datang kayak ikan2 yg ...</td>\n",
       "      <td>0</td>\n",
       "    </tr>\n",
       "  </tbody>\n",
       "</table>\n",
       "<p>27900 rows × 2 columns</p>\n",
       "</div>"
      ],
      "text/plain": [
       "                                                    text  label\n",
       "0      Semalam aku mimpi aneh 😭 serem banget aku inge...      0\n",
       "1      Ml pending....\\nEQ &amp; Tsunami Drill pending...      1\n",
       "2      Seumur-umur gue ngerasain gempa itu dua kali, ...      0\n",
       "3             Tak sanggup nak tengok video gempa bumi tu      1\n",
       "4      \"RANDY BAGUS HARI SASONGKO\" Segera dievakuasi ...      0\n",
       "...                                                  ...    ...\n",
       "30440   Gempa Mag:2.3, 04-Mei-21 00:57:53 WIB, Lok:3....      1\n",
       "30441  pohon itu adalah penyeimbang alam jika pohon i...      0\n",
       "30442  10. Tanggal 26 Januari 2021 pukul 23:14 WIB, a...      1\n",
       "30443   Gempa Mag:4.3, 27-Apr-21 17:28:58 WIB, Lok:1....      1\n",
       "30444  mgkn dia tau gempa akan datang kayak ikan2 yg ...      0\n",
       "\n",
       "[27900 rows x 2 columns]"
      ]
     },
     "execution_count": 11,
     "metadata": {},
     "output_type": "execute_result"
    }
   ],
   "source": [
    "merged_data = merged_data.drop_duplicates()\n",
    "merged_data"
   ]
  },
  {
   "cell_type": "code",
   "execution_count": 12,
   "id": "38e65a66-0fc2-4ade-84fa-8e23fae55b5b",
   "metadata": {},
   "outputs": [],
   "source": [
    "merged_data.to_csv('combined_dataset.csv', index=False)"
   ]
  },
  {
   "cell_type": "code",
   "execution_count": null,
   "id": "454b7a95-6a9e-480b-ba3f-7b568f5cd98c",
   "metadata": {},
   "outputs": [],
   "source": []
  }
 ],
 "metadata": {
  "kernelspec": {
   "display_name": "Python 3 (ipykernel)",
   "language": "python",
   "name": "python3"
  },
  "language_info": {
   "codemirror_mode": {
    "name": "ipython",
    "version": 3
   },
   "file_extension": ".py",
   "mimetype": "text/x-python",
   "name": "python",
   "nbconvert_exporter": "python",
   "pygments_lexer": "ipython3",
   "version": "3.8.13"
  }
 },
 "nbformat": 4,
 "nbformat_minor": 5
}
